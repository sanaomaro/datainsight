{
  "nbformat": 4,
  "nbformat_minor": 0,
  "metadata": {
    "colab": {
      "name": "diceroll_python.ipynb",
      "provenance": [],
      "collapsed_sections": [],
      "authorship_tag": "ABX9TyPYKZ5GD5DwSlEecRmmaJpC",
      "include_colab_link": true
    },
    "kernelspec": {
      "name": "python3",
      "display_name": "Python 3"
    },
    "language_info": {
      "name": "python"
    }
  },
  "cells": [
    {
      "cell_type": "markdown",
      "metadata": {
        "id": "view-in-github",
        "colab_type": "text"
      },
      "source": [
        "<a href=\"https://colab.research.google.com/github/sanaomaro/datainsight/blob/main/diceroll_python.ipynb\" target=\"_parent\"><img src=\"https://colab.research.google.com/assets/colab-badge.svg\" alt=\"Open In Colab\"/></a>"
      ]
    },
    {
      "cell_type": "code",
      "metadata": {
        "id": "iUd_9COGIk5M"
      },
      "source": [
        "from random import randint "
      ],
      "execution_count": 2,
      "outputs": []
    },
    {
      "cell_type": "code",
      "metadata": {
        "colab": {
          "base_uri": "https://localhost:8080/"
        },
        "id": "wNUbRyegi3Jp",
        "outputId": "0458675d-14b1-40d2-b059-032fa673291d"
      },
      "source": [
        "#using loops rolling 6 times randomly\n",
        "for j in range(6):\n",
        "  roll = randint(1,6)\n",
        "  print(\"You threw: \" + str(roll))\n",
        "\n",
        "\n",
        "\n"
      ],
      "execution_count": 6,
      "outputs": [
        {
          "output_type": "stream",
          "name": "stdout",
          "text": [
            "You threw: 2\n",
            "You threw: 6\n",
            "You threw: 3\n",
            "You threw: 2\n",
            "You threw: 4\n",
            "You threw: 6\n"
          ]
        }
      ]
    },
    {
      "cell_type": "code",
      "metadata": {
        "colab": {
          "base_uri": "https://localhost:8080/"
        },
        "id": "4r_0bGGonX76",
        "outputId": "80408df0-4bbb-461a-9f64-e3f4e2f62ca1"
      },
      "source": [
        "#using functions to rolling 6 times randomly\n",
        "def roll_dice():\n",
        "   roll = randint(1,6)\n",
        "   return roll\n",
        "\n",
        "for j in range(6):\n",
        "    print(\"You threw: \" + str(roll_dice()))\n"
      ],
      "execution_count": 14,
      "outputs": [
        {
          "output_type": "stream",
          "name": "stdout",
          "text": [
            "You threw: 3\n",
            "You threw: 1\n",
            "You threw: 6\n",
            "You threw: 6\n",
            "You threw: 5\n",
            "You threw: 6\n"
          ]
        }
      ]
    },
    {
      "cell_type": "code",
      "metadata": {
        "id": "TpxzQIYNnyxb"
      },
      "source": [
        "#using functions \n",
        "def roll_dice():\n",
        "   roll = randint(1,6)\n",
        "   return roll\n"
      ],
      "execution_count": 29,
      "outputs": []
    },
    {
      "cell_type": "code",
      "metadata": {
        "colab": {
          "base_uri": "https://localhost:8080/"
        },
        "id": "BtE531i6oQ-d",
        "outputId": "298e4631-99cd-445b-9592-5aa699fb0d24"
      },
      "source": [
        "no_rolls = input(\"Enter the number of rolls: \" )\n",
        "for j in range(int(no_rolls)):\n",
        "    print(\"You threw: \" + str(roll_dice()))"
      ],
      "execution_count": 30,
      "outputs": [
        {
          "output_type": "stream",
          "name": "stdout",
          "text": [
            "Enter the number of rolls: 20\n",
            "You threw: 5\n",
            "You threw: 2\n",
            "You threw: 2\n",
            "You threw: 4\n",
            "You threw: 2\n",
            "You threw: 3\n",
            "You threw: 2\n",
            "You threw: 4\n",
            "You threw: 1\n",
            "You threw: 4\n",
            "You threw: 3\n",
            "You threw: 4\n",
            "You threw: 5\n",
            "You threw: 4\n",
            "You threw: 1\n",
            "You threw: 5\n",
            "You threw: 2\n",
            "You threw: 5\n",
            "You threw: 1\n",
            "You threw: 5\n"
          ]
        }
      ]
    },
    {
      "cell_type": "code",
      "metadata": {
        "colab": {
          "base_uri": "https://localhost:8080/"
        },
        "id": "OS2F8GwModN-",
        "outputId": "5ec2c784-a8d5-40fc-ca70-7416804f0b97"
      },
      "source": [
        "while True:\n",
        "  print(\"You threw: \" + str(roll_dice()))\n",
        "  roll_again = input(\"Do you want to rall again?, Enter Y for Yes, N for no\")\n",
        "  if roll_again == ('n' or 'N'):\n",
        "    break;\n"
      ],
      "execution_count": 33,
      "outputs": [
        {
          "name": "stdout",
          "output_type": "stream",
          "text": [
            "You threw: 1\n",
            "Do you want to rall again?, Enter Y for Yes, N for noy\n",
            "You threw: 3\n",
            "Do you want to rall again?, Enter Y for Yes, N for noy\n",
            "You threw: 6\n",
            "Do you want to rall again?, Enter Y for Yes, N for nou\n",
            "You threw: 2\n",
            "Do you want to rall again?, Enter Y for Yes, N for non\n"
          ]
        }
      ]
    },
    {
      "cell_type": "code",
      "metadata": {
        "id": "X3HAwFk5sDCV"
      },
      "source": [
        ""
      ],
      "execution_count": null,
      "outputs": []
    }
  ]
}