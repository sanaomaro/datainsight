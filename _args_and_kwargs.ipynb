{
  "nbformat": 4,
  "nbformat_minor": 0,
  "metadata": {
    "colab": {
      "name": "*args and **kwargs.ipynb",
      "provenance": [],
      "authorship_tag": "ABX9TyOm4rgDZ9C22zUfzAz+Nc9Y",
      "include_colab_link": true
    },
    "kernelspec": {
      "display_name": "Python 3",
      "name": "python3"
    },
    "language_info": {
      "name": "python"
    }
  },
  "cells": [
    {
      "cell_type": "markdown",
      "metadata": {
        "id": "view-in-github",
        "colab_type": "text"
      },
      "source": [
        "<a href=\"https://colab.research.google.com/github/sanaomaro/datainsight/blob/main/_args_and_kwargs.ipynb\" target=\"_parent\"><img src=\"https://colab.research.google.com/assets/colab-badge.svg\" alt=\"Open In Colab\"/></a>"
      ]
    },
    {
      "cell_type": "code",
      "metadata": {
        "id": "5MIUipHdzujp"
      },
      "source": [
        "def sum(no1, no2):\n",
        "  return no1 + no2\n"
      ],
      "execution_count": 22,
      "outputs": []
    },
    {
      "cell_type": "code",
      "metadata": {
        "colab": {
          "base_uri": "https://localhost:8080/"
        },
        "id": "qH6kWIY23xlB",
        "outputId": "eb1c0727-c280-4dae-d588-f6e87b939310"
      },
      "source": [
        "sum(4,5)"
      ],
      "execution_count": 23,
      "outputs": [
        {
          "output_type": "execute_result",
          "data": {
            "text/plain": [
              "9"
            ]
          },
          "metadata": {},
          "execution_count": 23
        }
      ]
    },
    {
      "cell_type": "code",
      "metadata": {
        "colab": {
          "base_uri": "https://localhost:8080/"
        },
        "id": "F3Ad9VG83zLj",
        "outputId": "1d95396c-33be-4df1-f6bb-87a5f200d3fa"
      },
      "source": [
        "def sum(list_of_no):\n",
        "  result = 0\n",
        "  for x in list_of_no:\n",
        "    result +=x\n",
        "  return result\n",
        "\n",
        "list_of_no= [2,5,6]\n",
        "sum(list_of_no)"
      ],
      "execution_count": 24,
      "outputs": [
        {
          "output_type": "execute_result",
          "data": {
            "text/plain": [
              "13"
            ]
          },
          "metadata": {},
          "execution_count": 24
        }
      ]
    },
    {
      "cell_type": "code",
      "metadata": {
        "colab": {
          "base_uri": "https://localhost:8080/"
        },
        "id": "5Oa24nkJ8Za8",
        "outputId": "2b8d525c-a193-4dd2-d67e-7720ec3665eb"
      },
      "source": [
        "def sum(*args):\n",
        "    result = 0\n",
        "    # Iterating over the Python args tuple\n",
        "    for x in args:\n",
        "        result += x\n",
        "    return result\n",
        "\n",
        "sum(2,5,6)"
      ],
      "execution_count": 25,
      "outputs": [
        {
          "output_type": "execute_result",
          "data": {
            "text/plain": [
              "13"
            ]
          },
          "metadata": {},
          "execution_count": 25
        }
      ]
    },
    {
      "cell_type": "code",
      "metadata": {
        "colab": {
          "base_uri": "https://localhost:8080/"
        },
        "id": "gNbzQIkS8h59",
        "outputId": "04a3965a-5e5c-4925-f6a9-e77a421c62ed"
      },
      "source": [
        "def sum(*variables):\n",
        "    result = 0\n",
        "    # Iterating over the Python args tuple\n",
        "    for x in variables:\n",
        "        result += x\n",
        "    return result\n",
        "\n",
        "sum(2,5,6)"
      ],
      "execution_count": 26,
      "outputs": [
        {
          "output_type": "execute_result",
          "data": {
            "text/plain": [
              "13"
            ]
          },
          "metadata": {},
          "execution_count": 26
        }
      ]
    },
    {
      "cell_type": "code",
      "metadata": {
        "id": "2jTQYpKw8lUS"
      },
      "source": [
        "def sum(no1 , no2=4): #no1 is positional argument, while n2 is keyword argument\n",
        "  return no1+ no2\n"
      ],
      "execution_count": 27,
      "outputs": []
    },
    {
      "cell_type": "code",
      "metadata": {
        "colab": {
          "base_uri": "https://localhost:8080/"
        },
        "id": "-kkhiLdmB2hW",
        "outputId": "2570137a-f77b-4593-b257-9eadfb560f7d"
      },
      "source": [
        "sum(4)"
      ],
      "execution_count": 28,
      "outputs": [
        {
          "output_type": "execute_result",
          "data": {
            "text/plain": [
              "8"
            ]
          },
          "metadata": {},
          "execution_count": 28
        }
      ]
    },
    {
      "cell_type": "code",
      "metadata": {
        "colab": {
          "base_uri": "https://localhost:8080/"
        },
        "id": "-SA1afpnCJyl",
        "outputId": "fc942980-eb55-4d40-a13e-f3282c9a59a0"
      },
      "source": [
        "def keyarguments(a, b, **kwargs):\n",
        "  print(a)\n",
        "  print(b)\n",
        "  print(kwargs)\n",
        "\n",
        "keyarguments(5,6, third_no = 7, forth_no = 8)"
      ],
      "execution_count": 29,
      "outputs": [
        {
          "output_type": "stream",
          "name": "stdout",
          "text": [
            "5\n",
            "6\n",
            "{'third_no': 7, 'forth_no': 8}\n"
          ]
        }
      ]
    },
    {
      "cell_type": "code",
      "metadata": {
        "id": "YAlIes6ND5cX",
        "outputId": "a45a74af-adaa-481a-a8ea-36dbf0b21ce8",
        "colab": {
          "base_uri": "https://localhost:8080/"
        }
      },
      "source": [
        "def show_data(**kwargs):\n",
        "    print(\"\\nType of argument:\",type(kwargs))\n",
        "\n",
        "    for key, value in kwargs.items():\n",
        "        print(\"{} is {}\".format(key,value))\n",
        "        \n",
        "\n",
        "show_data(Name= \"sana\", Program= \"data science\", Platform= \"Data Insight\")\n"
      ],
      "execution_count": 31,
      "outputs": [
        {
          "output_type": "stream",
          "name": "stdout",
          "text": [
            "\n",
            "Type of argument: <class 'dict'>\n",
            "Name is sana\n",
            "Program is data science\n",
            "Platform is Data Insight\n"
          ]
        }
      ]
    },
    {
      "cell_type": "code",
      "metadata": {
        "id": "KOEU4J5WFt9i"
      },
      "source": [
        ""
      ],
      "execution_count": null,
      "outputs": []
    }
  ]
}