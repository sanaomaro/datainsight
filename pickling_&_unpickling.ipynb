{
  "nbformat": 4,
  "nbformat_minor": 0,
  "metadata": {
    "colab": {
      "name": "pickling & unpickling.ipynb",
      "provenance": [],
      "authorship_tag": "ABX9TyOb10bYTQPz6SG2Xo2f0laB",
      "include_colab_link": true
    },
    "kernelspec": {
      "name": "python3",
      "display_name": "Python 3"
    },
    "language_info": {
      "name": "python"
    }
  },
  "cells": [
    {
      "cell_type": "markdown",
      "metadata": {
        "id": "view-in-github",
        "colab_type": "text"
      },
      "source": [
        "<a href=\"https://colab.research.google.com/github/sanaomaro/datainsight/blob/main/pickling_%26_unpickling.ipynb\" target=\"_parent\"><img src=\"https://colab.research.google.com/assets/colab-badge.svg\" alt=\"Open In Colab\"/></a>"
      ]
    },
    {
      "cell_type": "code",
      "metadata": {
        "id": "5e4YxvKNRxDi"
      },
      "source": [
        "import pickle\n",
        "\n",
        "serial_dic = {\"type1\":\"text-based\", \"type2\":\"binary-format\" }\n"
      ],
      "execution_count": 6,
      "outputs": []
    },
    {
      "cell_type": "code",
      "metadata": {
        "id": "jDYbk1FTdbK0"
      },
      "source": [
        "with open(\"serial_dic.pkl\", \"wb\") as f:\n",
        "        pickle.dump(serial_dic, f, pickle.HIGHEST_PROTOCOL)"
      ],
      "execution_count": 7,
      "outputs": []
    },
    {
      "cell_type": "code",
      "metadata": {
        "colab": {
          "base_uri": "https://localhost:8080/"
        },
        "id": "NQnk7vFWenXp",
        "outputId": "5abe49e8-1cc4-41b1-8cc7-1b381aaf254b"
      },
      "source": [
        "with open(\"serial_dic.pkl\", \"rb\") as f:\n",
        "        retreived_dict = pickle.load(f)\n",
        "\n",
        "print(retreived_dict)"
      ],
      "execution_count": 8,
      "outputs": [
        {
          "output_type": "stream",
          "name": "stdout",
          "text": [
            "{'type1': 'text-based', 'type2': 'binary-format'}\n"
          ]
        }
      ]
    },
    {
      "cell_type": "code",
      "metadata": {
        "id": "L257ysaNf1a8"
      },
      "source": [
        ""
      ],
      "execution_count": null,
      "outputs": []
    }
  ]
}