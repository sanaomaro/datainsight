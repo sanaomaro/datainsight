{
  "nbformat": 4,
  "nbformat_minor": 0,
  "metadata": {
    "colab": {
      "name": "FehToCelsius.ipynb",
      "provenance": [],
      "authorship_tag": "ABX9TyOjFzVkUyNVaiOLB0+WV+tx",
      "include_colab_link": true
    },
    "kernelspec": {
      "name": "python3",
      "display_name": "Python 3"
    },
    "language_info": {
      "name": "python"
    }
  },
  "cells": [
    {
      "cell_type": "markdown",
      "metadata": {
        "id": "view-in-github",
        "colab_type": "text"
      },
      "source": [
        "<a href=\"https://colab.research.google.com/github/sanaomaro/datainsight/blob/main/FehToCelsius.ipynb\" target=\"_parent\"><img src=\"https://colab.research.google.com/assets/colab-badge.svg\" alt=\"Open In Colab\"/></a>"
      ]
    },
    {
      "cell_type": "code",
      "metadata": {
        "colab": {
          "base_uri": "https://localhost:8080/"
        },
        "id": "6_l9XMqfyDeu",
        "outputId": "86469e57-2b2a-480b-ff14-28a5dad46126"
      },
      "source": [
        "feh = float(input(\"Enter your temperature in Fehrenheit: \"))\n",
        "celsius = (feh - 32) * 5 / 9\n"
      ],
      "execution_count": 15,
      "outputs": [
        {
          "name": "stdout",
          "output_type": "stream",
          "text": [
            "Enter your temperature in Fehrenheit: 1000\n"
          ]
        }
      ]
    },
    {
      "cell_type": "code",
      "metadata": {
        "colab": {
          "base_uri": "https://localhost:8080/"
        },
        "id": "8CBmJDvwymFD",
        "outputId": "8ec59e20-8956-496f-8773-0da501b2b1ac"
      },
      "source": [
        "print(\"%0.2f degrees in Fehrenheit is %0.2f degrees in Celsius. \" %(feh,celsius))"
      ],
      "execution_count": 16,
      "outputs": [
        {
          "output_type": "stream",
          "name": "stdout",
          "text": [
            "1000.00 degrees in Fehrenheit is 537.78 degrees in Celsius. \n"
          ]
        }
      ]
    },
    {
      "cell_type": "code",
      "metadata": {
        "colab": {
          "base_uri": "https://localhost:8080/"
        },
        "id": "oXOAOYkSzw-U",
        "outputId": "43f9adc1-f505-4f9b-97e3-305b5283360f"
      },
      "source": [
        "print(\"The temperature in Celesius is :\" + str(celsius))"
      ],
      "execution_count": 17,
      "outputs": [
        {
          "output_type": "stream",
          "name": "stdout",
          "text": [
            "The temperature in Celesius is :537.7777777777778\n"
          ]
        }
      ]
    },
    {
      "cell_type": "code",
      "metadata": {
        "id": "XV95NRYC0OUC"
      },
      "source": [
        ""
      ],
      "execution_count": null,
      "outputs": []
    }
  ]
}