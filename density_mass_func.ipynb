{
  "nbformat": 4,
  "nbformat_minor": 0,
  "metadata": {
    "colab": {
      "name": "density mass func.ipynb",
      "provenance": [],
      "authorship_tag": "ABX9TyNi7Xm9VNBNRGyfygKnp31S",
      "include_colab_link": true
    },
    "kernelspec": {
      "name": "python3",
      "display_name": "Python 3"
    },
    "language_info": {
      "name": "python"
    }
  },
  "cells": [
    {
      "cell_type": "markdown",
      "metadata": {
        "id": "view-in-github",
        "colab_type": "text"
      },
      "source": [
        "<a href=\"https://colab.research.google.com/github/sanaomaro/datainsight/blob/main/density_mass_func.ipynb\" target=\"_parent\"><img src=\"https://colab.research.google.com/assets/colab-badge.svg\" alt=\"Open In Colab\"/></a>"
      ]
    },
    {
      "cell_type": "code",
      "execution_count": 1,
      "metadata": {
        "colab": {
          "base_uri": "https://localhost:8080/",
          "height": 296
        },
        "id": "DsuzgEiAwJiJ",
        "outputId": "3a547a0f-3bec-4d5d-f0ae-e78ee0125f4d"
      },
      "outputs": [
        {
          "output_type": "execute_result",
          "data": {
            "text/plain": [
              "Text(0.5, 0, 'x')"
            ]
          },
          "metadata": {},
          "execution_count": 1
        },
        {
          "output_type": "display_data",
          "data": {
            "text/plain": [
              "<Figure size 432x288 with 1 Axes>"
            ],
            "image/png": "[encoded data removed]"
          },
          "metadata": {
            "needs_background": "light"
          }
        }
      ],
      "source": [
        "import numpy as np\n",
        "import matplotlib.pyplot as plt\n",
        "\n",
        "#define random sample of data\n",
        "data = np.random.randn(10000)\n",
        "\n",
        "#sort data\n",
        "x = np.sort(data)\n",
        "\n",
        "#calculate CDF values\n",
        "y = 1. * np.arange(len(data)) / (len(data) - 1)\n",
        "\n",
        "#plot CDF\n",
        "plt.plot(x, y)\n",
        "plt.xlabel('x')"
      ]
    },
    {
      "cell_type": "code",
      "source": [
        "\n",
        "import scipy\n",
        "from scipy import stats\n",
        "\n",
        "#generate data from normal distribution\n",
        "data = np.random.randn(1000)\n",
        "\n",
        "#sort data\n",
        "data_sorted = np.sort(data)\n",
        "\n",
        "#calculate CDF values\n",
        "norm_cdf = scipy.stats.norm.cdf(x)\n",
        "\n",
        "#plot CDF\n",
        "plt.plot(data_sorted, norm_cdf)\n",
        "\n",
        "#plot CDF\n",
        "plt.plot(x, y)\n",
        "plt.xlabel('x')"
      ],
      "metadata": {
        "colab": {
          "base_uri": "https://localhost:8080/",
          "height": 632
        },
        "id": "6QIiiPqLwLN8",
        "outputId": "9728b63f-6fe2-469b-d102-5f476b3a71ef"
      },
      "execution_count": 2,
      "outputs": [
        {
          "output_type": "error",
          "ename": "ValueError",
          "evalue": "ignored",
          "traceback": [
            "\u001b[0;31m---------------------------------------------------------------------------\u001b[0m",
            "\u001b[0;31mValueError\u001b[0m                                Traceback (most recent call last)",
            "\u001b[0;32m<ipython-input-2-642ba5404366>\u001b[0m in \u001b[0;36m<module>\u001b[0;34m()\u001b[0m\n\u001b[1;32m     13\u001b[0m \u001b[0;34m\u001b[0m\u001b[0m\n\u001b[1;32m     14\u001b[0m \u001b[0;31m#plot CDF\u001b[0m\u001b[0;34m\u001b[0m\u001b[0;34m\u001b[0m\u001b[0;34m\u001b[0m\u001b[0m\n\u001b[0;32m---> 15\u001b[0;31m \u001b[0mplt\u001b[0m\u001b[0;34m.\u001b[0m\u001b[0mplot\u001b[0m\u001b[0;34m(\u001b[0m\u001b[0mdata_sorted\u001b[0m\u001b[0;34m,\u001b[0m \u001b[0mnorm_cdf\u001b[0m\u001b[0;34m)\u001b[0m\u001b[0;34m\u001b[0m\u001b[0;34m\u001b[0m\u001b[0m\n\u001b[0m\u001b[1;32m     16\u001b[0m \u001b[0;34m\u001b[0m\u001b[0m\n\u001b[1;32m     17\u001b[0m \u001b[0;31m#plot CDF\u001b[0m\u001b[0;34m\u001b[0m\u001b[0;34m\u001b[0m\u001b[0;34m\u001b[0m\u001b[0m\n",
            "\u001b[0;32m/usr/local/lib/python3.7/dist-packages/matplotlib/pyplot.py\u001b[0m in \u001b[0;36mplot\u001b[0;34m(scalex, scaley, data, *args, **kwargs)\u001b[0m\n\u001b[1;32m   2761\u001b[0m     return gca().plot(\n\u001b[1;32m   2762\u001b[0m         *args, scalex=scalex, scaley=scaley, **({\"data\": data} if data\n\u001b[0;32m-> 2763\u001b[0;31m         is not None else {}), **kwargs)\n\u001b[0m\u001b[1;32m   2764\u001b[0m \u001b[0;34m\u001b[0m\u001b[0m\n\u001b[1;32m   2765\u001b[0m \u001b[0;34m\u001b[0m\u001b[0m\n",
            "\u001b[0;32m/usr/local/lib/python3.7/dist-packages/matplotlib/axes/_axes.py\u001b[0m in \u001b[0;36mplot\u001b[0;34m(self, scalex, scaley, data, *args, **kwargs)\u001b[0m\n\u001b[1;32m   1645\u001b[0m         \"\"\"\n\u001b[1;32m   1646\u001b[0m         \u001b[0mkwargs\u001b[0m \u001b[0;34m=\u001b[0m \u001b[0mcbook\u001b[0m\u001b[0;34m.\u001b[0m\u001b[0mnormalize_kwargs\u001b[0m\u001b[0;34m(\u001b[0m\u001b[0mkwargs\u001b[0m\u001b[0;34m,\u001b[0m \u001b[0mmlines\u001b[0m\u001b[0;34m.\u001b[0m\u001b[0mLine2D\u001b[0m\u001b[0;34m)\u001b[0m\u001b[0;34m\u001b[0m\u001b[0;34m\u001b[0m\u001b[0m\n\u001b[0;32m-> 1647\u001b[0;31m         \u001b[0mlines\u001b[0m \u001b[0;34m=\u001b[0m \u001b[0;34m[\u001b[0m\u001b[0;34m*\u001b[0m\u001b[0mself\u001b[0m\u001b[0;34m.\u001b[0m\u001b[0m_get_lines\u001b[0m\u001b[0;34m(\u001b[0m\u001b[0;34m*\u001b[0m\u001b[0margs\u001b[0m\u001b[0;34m,\u001b[0m \u001b[0mdata\u001b[0m\u001b[0;34m=\u001b[0m\u001b[0mdata\u001b[0m\u001b[0;34m,\u001b[0m \u001b[0;34m**\u001b[0m\u001b[0mkwargs\u001b[0m\u001b[0;34m)\u001b[0m\u001b[0;34m]\u001b[0m\u001b[0;34m\u001b[0m\u001b[0;34m\u001b[0m\u001b[0m\n\u001b[0m\u001b[1;32m   1648\u001b[0m         \u001b[0;32mfor\u001b[0m \u001b[0mline\u001b[0m \u001b[0;32min\u001b[0m \u001b[0mlines\u001b[0m\u001b[0;34m:\u001b[0m\u001b[0;34m\u001b[0m\u001b[0;34m\u001b[0m\u001b[0m\n\u001b[1;32m   1649\u001b[0m             \u001b[0mself\u001b[0m\u001b[0;34m.\u001b[0m\u001b[0madd_line\u001b[0m\u001b[0;34m(\u001b[0m\u001b[0mline\u001b[0m\u001b[0;34m)\u001b[0m\u001b[0;34m\u001b[0m\u001b[0;34m\u001b[0m\u001b[0m\n",
            "\u001b[0;32m/usr/local/lib/python3.7/dist-packages/matplotlib/axes/_base.py\u001b[0m in \u001b[0;36m__call__\u001b[0;34m(self, *args, **kwargs)\u001b[0m\n\u001b[1;32m    214\u001b[0m                 \u001b[0mthis\u001b[0m \u001b[0;34m+=\u001b[0m \u001b[0margs\u001b[0m\u001b[0;34m[\u001b[0m\u001b[0;36m0\u001b[0m\u001b[0;34m]\u001b[0m\u001b[0;34m,\u001b[0m\u001b[0;34m\u001b[0m\u001b[0;34m\u001b[0m\u001b[0m\n\u001b[1;32m    215\u001b[0m                 \u001b[0margs\u001b[0m \u001b[0;34m=\u001b[0m \u001b[0margs\u001b[0m\u001b[0;34m[\u001b[0m\u001b[0;36m1\u001b[0m\u001b[0;34m:\u001b[0m\u001b[0;34m]\u001b[0m\u001b[0;34m\u001b[0m\u001b[0;34m\u001b[0m\u001b[0m\n\u001b[0;32m--> 216\u001b[0;31m             \u001b[0;32myield\u001b[0m \u001b[0;32mfrom\u001b[0m \u001b[0mself\u001b[0m\u001b[0;34m.\u001b[0m\u001b[0m_plot_args\u001b[0m\u001b[0;34m(\u001b[0m\u001b[0mthis\u001b[0m\u001b[0;34m,\u001b[0m \u001b[0mkwargs\u001b[0m\u001b[0;34m)\u001b[0m\u001b[0;34m\u001b[0m\u001b[0;34m\u001b[0m\u001b[0m\n\u001b[0m\u001b[1;32m    217\u001b[0m \u001b[0;34m\u001b[0m\u001b[0m\n\u001b[1;32m    218\u001b[0m     \u001b[0;32mdef\u001b[0m \u001b[0mget_next_color\u001b[0m\u001b[0;34m(\u001b[0m\u001b[0mself\u001b[0m\u001b[0;34m)\u001b[0m\u001b[0;34m:\u001b[0m\u001b[0;34m\u001b[0m\u001b[0;34m\u001b[0m\u001b[0m\n",
            "\u001b[0;32m/usr/local/lib/python3.7/dist-packages/matplotlib/axes/_base.py\u001b[0m in \u001b[0;36m_plot_args\u001b[0;34m(self, tup, kwargs)\u001b[0m\n\u001b[1;32m    340\u001b[0m \u001b[0;34m\u001b[0m\u001b[0m\n\u001b[1;32m    341\u001b[0m         \u001b[0;32mif\u001b[0m \u001b[0mx\u001b[0m\u001b[0;34m.\u001b[0m\u001b[0mshape\u001b[0m\u001b[0;34m[\u001b[0m\u001b[0;36m0\u001b[0m\u001b[0;34m]\u001b[0m \u001b[0;34m!=\u001b[0m \u001b[0my\u001b[0m\u001b[0;34m.\u001b[0m\u001b[0mshape\u001b[0m\u001b[0;34m[\u001b[0m\u001b[0;36m0\u001b[0m\u001b[0;34m]\u001b[0m\u001b[0;34m:\u001b[0m\u001b[0;34m\u001b[0m\u001b[0;34m\u001b[0m\u001b[0m\n\u001b[0;32m--> 342\u001b[0;31m             raise ValueError(f\"x and y must have same first dimension, but \"\n\u001b[0m\u001b[1;32m    343\u001b[0m                              f\"have shapes {x.shape} and {y.shape}\")\n\u001b[1;32m    344\u001b[0m         \u001b[0;32mif\u001b[0m \u001b[0mx\u001b[0m\u001b[0;34m.\u001b[0m\u001b[0mndim\u001b[0m \u001b[0;34m>\u001b[0m \u001b[0;36m2\u001b[0m \u001b[0;32mor\u001b[0m \u001b[0my\u001b[0m\u001b[0;34m.\u001b[0m\u001b[0mndim\u001b[0m \u001b[0;34m>\u001b[0m \u001b[0;36m2\u001b[0m\u001b[0;34m:\u001b[0m\u001b[0;34m\u001b[0m\u001b[0;34m\u001b[0m\u001b[0m\n",
            "\u001b[0;31mValueError\u001b[0m: x and y must have same first dimension, but have shapes (1000,) and (10000,)"
          ]
        },
        {
          "output_type": "display_data",
          "data": {
            "text/plain": [
              "<Figure size 432x288 with 1 Axes>"
            ],
            "image/png": "[encoded data removed]"
          },
          "metadata": {
            "needs_background": "light"
          }
        }
      ]
    },
    {
      "cell_type": "code",
      "source": [
        "import numpy as np\n",
        "import matplotlib.pyplot as plt\n",
        "\n",
        "N = 100000\n",
        "\n",
        "data = np.random.randn(N)"
      ],
      "metadata": {
        "id": "mPTfRdl9wZKy"
      },
      "execution_count": 3,
      "outputs": []
    },
    {
      "cell_type": "code",
      "source": [
        "hx, hy, _ = plt.hist(data, bins=50, normed=1,color=\"lightblue\")\n",
        "\n",
        "plt.ylim(0.0,max(hx)+0.05)\n",
        "plt.title('Generate random numbers \\n from a standard normal distribution with python')\n",
        "plt.grid()\n",
        "\n",
        "plt.savefig(\"cumulative_density_distribution_01.png\", bbox_inches='tight')\n",
        "\n",
        "#plt.show()\n",
        "plt.close()"
      ],
      "metadata": {
        "colab": {
          "base_uri": "https://localhost:8080/",
          "height": 628
        },
        "id": "mQUJ9LdM3amy",
        "outputId": "f2731378-8dff-4966-e9e6-3ba72392abe8"
      },
      "execution_count": 4,
      "outputs": [
        {
          "output_type": "error",
          "ename": "AttributeError",
          "evalue": "ignored",
          "traceback": [
            "\u001b[0;31m---------------------------------------------------------------------------\u001b[0m",
            "\u001b[0;31mAttributeError\u001b[0m                            Traceback (most recent call last)",
            "\u001b[0;32m<ipython-input-4-9ad5120f7e84>\u001b[0m in \u001b[0;36m<module>\u001b[0;34m()\u001b[0m\n\u001b[0;32m----> 1\u001b[0;31m \u001b[0mhx\u001b[0m\u001b[0;34m,\u001b[0m \u001b[0mhy\u001b[0m\u001b[0;34m,\u001b[0m \u001b[0m_\u001b[0m \u001b[0;34m=\u001b[0m \u001b[0mplt\u001b[0m\u001b[0;34m.\u001b[0m\u001b[0mhist\u001b[0m\u001b[0;34m(\u001b[0m\u001b[0mdata\u001b[0m\u001b[0;34m,\u001b[0m \u001b[0mbins\u001b[0m\u001b[0;34m=\u001b[0m\u001b[0;36m50\u001b[0m\u001b[0;34m,\u001b[0m \u001b[0mnormed\u001b[0m\u001b[0;34m=\u001b[0m\u001b[0;36m1\u001b[0m\u001b[0;34m,\u001b[0m\u001b[0mcolor\u001b[0m\u001b[0;34m=\u001b[0m\u001b[0;34m\"lightblue\"\u001b[0m\u001b[0;34m)\u001b[0m\u001b[0;34m\u001b[0m\u001b[0;34m\u001b[0m\u001b[0m\n\u001b[0m\u001b[1;32m      2\u001b[0m \u001b[0;34m\u001b[0m\u001b[0m\n\u001b[1;32m      3\u001b[0m \u001b[0mplt\u001b[0m\u001b[0;34m.\u001b[0m\u001b[0mylim\u001b[0m\u001b[0;34m(\u001b[0m\u001b[0;36m0.0\u001b[0m\u001b[0;34m,\u001b[0m\u001b[0mmax\u001b[0m\u001b[0;34m(\u001b[0m\u001b[0mhx\u001b[0m\u001b[0;34m)\u001b[0m\u001b[0;34m+\u001b[0m\u001b[0;36m0.05\u001b[0m\u001b[0;34m)\u001b[0m\u001b[0;34m\u001b[0m\u001b[0;34m\u001b[0m\u001b[0m\n\u001b[1;32m      4\u001b[0m \u001b[0mplt\u001b[0m\u001b[0;34m.\u001b[0m\u001b[0mtitle\u001b[0m\u001b[0;34m(\u001b[0m\u001b[0;34m'Generate random numbers \\n from a standard normal distribution with python'\u001b[0m\u001b[0;34m)\u001b[0m\u001b[0;34m\u001b[0m\u001b[0;34m\u001b[0m\u001b[0m\n\u001b[1;32m      5\u001b[0m \u001b[0mplt\u001b[0m\u001b[0;34m.\u001b[0m\u001b[0mgrid\u001b[0m\u001b[0;34m(\u001b[0m\u001b[0;34m)\u001b[0m\u001b[0;34m\u001b[0m\u001b[0;34m\u001b[0m\u001b[0m\n",
            "\u001b[0;32m/usr/local/lib/python3.7/dist-packages/matplotlib/pyplot.py\u001b[0m in \u001b[0;36mhist\u001b[0;34m(x, bins, range, density, weights, cumulative, bottom, histtype, align, orientation, rwidth, log, color, label, stacked, data, **kwargs)\u001b[0m\n\u001b[1;32m   2608\u001b[0m         \u001b[0malign\u001b[0m\u001b[0;34m=\u001b[0m\u001b[0malign\u001b[0m\u001b[0;34m,\u001b[0m \u001b[0morientation\u001b[0m\u001b[0;34m=\u001b[0m\u001b[0morientation\u001b[0m\u001b[0;34m,\u001b[0m \u001b[0mrwidth\u001b[0m\u001b[0;34m=\u001b[0m\u001b[0mrwidth\u001b[0m\u001b[0;34m,\u001b[0m \u001b[0mlog\u001b[0m\u001b[0;34m=\u001b[0m\u001b[0mlog\u001b[0m\u001b[0;34m,\u001b[0m\u001b[0;34m\u001b[0m\u001b[0;34m\u001b[0m\u001b[0m\n\u001b[1;32m   2609\u001b[0m         color=color, label=label, stacked=stacked, **({\"data\": data}\n\u001b[0;32m-> 2610\u001b[0;31m         if data is not None else {}), **kwargs)\n\u001b[0m\u001b[1;32m   2611\u001b[0m \u001b[0;34m\u001b[0m\u001b[0m\n\u001b[1;32m   2612\u001b[0m \u001b[0;34m\u001b[0m\u001b[0m\n",
            "\u001b[0;32m/usr/local/lib/python3.7/dist-packages/matplotlib/__init__.py\u001b[0m in \u001b[0;36minner\u001b[0;34m(ax, data, *args, **kwargs)\u001b[0m\n\u001b[1;32m   1563\u001b[0m     \u001b[0;32mdef\u001b[0m \u001b[0minner\u001b[0m\u001b[0;34m(\u001b[0m\u001b[0max\u001b[0m\u001b[0;34m,\u001b[0m \u001b[0;34m*\u001b[0m\u001b[0margs\u001b[0m\u001b[0;34m,\u001b[0m \u001b[0mdata\u001b[0m\u001b[0;34m=\u001b[0m\u001b[0;32mNone\u001b[0m\u001b[0;34m,\u001b[0m \u001b[0;34m**\u001b[0m\u001b[0mkwargs\u001b[0m\u001b[0;34m)\u001b[0m\u001b[0;34m:\u001b[0m\u001b[0;34m\u001b[0m\u001b[0;34m\u001b[0m\u001b[0m\n\u001b[1;32m   1564\u001b[0m         \u001b[0;32mif\u001b[0m \u001b[0mdata\u001b[0m \u001b[0;32mis\u001b[0m \u001b[0;32mNone\u001b[0m\u001b[0;34m:\u001b[0m\u001b[0;34m\u001b[0m\u001b[0;34m\u001b[0m\u001b[0m\n\u001b[0;32m-> 1565\u001b[0;31m             \u001b[0;32mreturn\u001b[0m \u001b[0mfunc\u001b[0m\u001b[0;34m(\u001b[0m\u001b[0max\u001b[0m\u001b[0;34m,\u001b[0m \u001b[0;34m*\u001b[0m\u001b[0mmap\u001b[0m\u001b[0;34m(\u001b[0m\u001b[0msanitize_sequence\u001b[0m\u001b[0;34m,\u001b[0m \u001b[0margs\u001b[0m\u001b[0;34m)\u001b[0m\u001b[0;34m,\u001b[0m \u001b[0;34m**\u001b[0m\u001b[0mkwargs\u001b[0m\u001b[0;34m)\u001b[0m\u001b[0;34m\u001b[0m\u001b[0;34m\u001b[0m\u001b[0m\n\u001b[0m\u001b[1;32m   1566\u001b[0m \u001b[0;34m\u001b[0m\u001b[0m\n\u001b[1;32m   1567\u001b[0m         \u001b[0mbound\u001b[0m \u001b[0;34m=\u001b[0m \u001b[0mnew_sig\u001b[0m\u001b[0;34m.\u001b[0m\u001b[0mbind\u001b[0m\u001b[0;34m(\u001b[0m\u001b[0max\u001b[0m\u001b[0;34m,\u001b[0m \u001b[0;34m*\u001b[0m\u001b[0margs\u001b[0m\u001b[0;34m,\u001b[0m \u001b[0;34m**\u001b[0m\u001b[0mkwargs\u001b[0m\u001b[0;34m)\u001b[0m\u001b[0;34m\u001b[0m\u001b[0;34m\u001b[0m\u001b[0m\n",
            "\u001b[0;32m/usr/local/lib/python3.7/dist-packages/matplotlib/axes/_axes.py\u001b[0m in \u001b[0;36mhist\u001b[0;34m(self, x, bins, range, density, weights, cumulative, bottom, histtype, align, orientation, rwidth, log, color, label, stacked, **kwargs)\u001b[0m\n\u001b[1;32m   6817\u001b[0m             \u001b[0;32mif\u001b[0m \u001b[0mpatch\u001b[0m\u001b[0;34m:\u001b[0m\u001b[0;34m\u001b[0m\u001b[0;34m\u001b[0m\u001b[0m\n\u001b[1;32m   6818\u001b[0m                 \u001b[0mp\u001b[0m \u001b[0;34m=\u001b[0m \u001b[0mpatch\u001b[0m\u001b[0;34m[\u001b[0m\u001b[0;36m0\u001b[0m\u001b[0;34m]\u001b[0m\u001b[0;34m\u001b[0m\u001b[0;34m\u001b[0m\u001b[0m\n\u001b[0;32m-> 6819\u001b[0;31m                 \u001b[0mp\u001b[0m\u001b[0;34m.\u001b[0m\u001b[0mupdate\u001b[0m\u001b[0;34m(\u001b[0m\u001b[0mkwargs\u001b[0m\u001b[0;34m)\u001b[0m\u001b[0;34m\u001b[0m\u001b[0;34m\u001b[0m\u001b[0m\n\u001b[0m\u001b[1;32m   6820\u001b[0m                 \u001b[0;32mif\u001b[0m \u001b[0mlbl\u001b[0m \u001b[0;32mis\u001b[0m \u001b[0;32mnot\u001b[0m \u001b[0;32mNone\u001b[0m\u001b[0;34m:\u001b[0m\u001b[0;34m\u001b[0m\u001b[0;34m\u001b[0m\u001b[0m\n\u001b[1;32m   6821\u001b[0m                     \u001b[0mp\u001b[0m\u001b[0;34m.\u001b[0m\u001b[0mset_label\u001b[0m\u001b[0;34m(\u001b[0m\u001b[0mlbl\u001b[0m\u001b[0;34m)\u001b[0m\u001b[0;34m\u001b[0m\u001b[0;34m\u001b[0m\u001b[0m\n",
            "\u001b[0;32m/usr/local/lib/python3.7/dist-packages/matplotlib/artist.py\u001b[0m in \u001b[0;36mupdate\u001b[0;34m(self, props)\u001b[0m\n\u001b[1;32m   1004\u001b[0m \u001b[0;34m\u001b[0m\u001b[0m\n\u001b[1;32m   1005\u001b[0m         \u001b[0;32mwith\u001b[0m \u001b[0mcbook\u001b[0m\u001b[0;34m.\u001b[0m\u001b[0m_setattr_cm\u001b[0m\u001b[0;34m(\u001b[0m\u001b[0mself\u001b[0m\u001b[0;34m,\u001b[0m \u001b[0meventson\u001b[0m\u001b[0;34m=\u001b[0m\u001b[0;32mFalse\u001b[0m\u001b[0;34m)\u001b[0m\u001b[0;34m:\u001b[0m\u001b[0;34m\u001b[0m\u001b[0;34m\u001b[0m\u001b[0m\n\u001b[0;32m-> 1006\u001b[0;31m             \u001b[0mret\u001b[0m \u001b[0;34m=\u001b[0m \u001b[0;34m[\u001b[0m\u001b[0m_update_property\u001b[0m\u001b[0;34m(\u001b[0m\u001b[0mself\u001b[0m\u001b[0;34m,\u001b[0m \u001b[0mk\u001b[0m\u001b[0;34m,\u001b[0m \u001b[0mv\u001b[0m\u001b[0;34m)\u001b[0m \u001b[0;32mfor\u001b[0m \u001b[0mk\u001b[0m\u001b[0;34m,\u001b[0m \u001b[0mv\u001b[0m \u001b[0;32min\u001b[0m \u001b[0mprops\u001b[0m\u001b[0;34m.\u001b[0m\u001b[0mitems\u001b[0m\u001b[0;34m(\u001b[0m\u001b[0;34m)\u001b[0m\u001b[0;34m]\u001b[0m\u001b[0;34m\u001b[0m\u001b[0;34m\u001b[0m\u001b[0m\n\u001b[0m\u001b[1;32m   1007\u001b[0m \u001b[0;34m\u001b[0m\u001b[0m\n\u001b[1;32m   1008\u001b[0m         \u001b[0;32mif\u001b[0m \u001b[0mlen\u001b[0m\u001b[0;34m(\u001b[0m\u001b[0mret\u001b[0m\u001b[0;34m)\u001b[0m\u001b[0;34m:\u001b[0m\u001b[0;34m\u001b[0m\u001b[0;34m\u001b[0m\u001b[0m\n",
            "\u001b[0;32m/usr/local/lib/python3.7/dist-packages/matplotlib/artist.py\u001b[0m in \u001b[0;36m<listcomp>\u001b[0;34m(.0)\u001b[0m\n\u001b[1;32m   1004\u001b[0m \u001b[0;34m\u001b[0m\u001b[0m\n\u001b[1;32m   1005\u001b[0m         \u001b[0;32mwith\u001b[0m \u001b[0mcbook\u001b[0m\u001b[0;34m.\u001b[0m\u001b[0m_setattr_cm\u001b[0m\u001b[0;34m(\u001b[0m\u001b[0mself\u001b[0m\u001b[0;34m,\u001b[0m \u001b[0meventson\u001b[0m\u001b[0;34m=\u001b[0m\u001b[0;32mFalse\u001b[0m\u001b[0;34m)\u001b[0m\u001b[0;34m:\u001b[0m\u001b[0;34m\u001b[0m\u001b[0;34m\u001b[0m\u001b[0m\n\u001b[0;32m-> 1006\u001b[0;31m             \u001b[0mret\u001b[0m \u001b[0;34m=\u001b[0m \u001b[0;34m[\u001b[0m\u001b[0m_update_property\u001b[0m\u001b[0;34m(\u001b[0m\u001b[0mself\u001b[0m\u001b[0;34m,\u001b[0m \u001b[0mk\u001b[0m\u001b[0;34m,\u001b[0m \u001b[0mv\u001b[0m\u001b[0;34m)\u001b[0m \u001b[0;32mfor\u001b[0m \u001b[0mk\u001b[0m\u001b[0;34m,\u001b[0m \u001b[0mv\u001b[0m \u001b[0;32min\u001b[0m \u001b[0mprops\u001b[0m\u001b[0;34m.\u001b[0m\u001b[0mitems\u001b[0m\u001b[0;34m(\u001b[0m\u001b[0;34m)\u001b[0m\u001b[0;34m]\u001b[0m\u001b[0;34m\u001b[0m\u001b[0;34m\u001b[0m\u001b[0m\n\u001b[0m\u001b[1;32m   1007\u001b[0m \u001b[0;34m\u001b[0m\u001b[0m\n\u001b[1;32m   1008\u001b[0m         \u001b[0;32mif\u001b[0m \u001b[0mlen\u001b[0m\u001b[0;34m(\u001b[0m\u001b[0mret\u001b[0m\u001b[0;34m)\u001b[0m\u001b[0;34m:\u001b[0m\u001b[0;34m\u001b[0m\u001b[0;34m\u001b[0m\u001b[0m\n",
            "\u001b[0;32m/usr/local/lib/python3.7/dist-packages/matplotlib/artist.py\u001b[0m in \u001b[0;36m_update_property\u001b[0;34m(self, k, v)\u001b[0m\n\u001b[1;32m   1000\u001b[0m                 \u001b[0;32mif\u001b[0m \u001b[0;32mnot\u001b[0m \u001b[0mcallable\u001b[0m\u001b[0;34m(\u001b[0m\u001b[0mfunc\u001b[0m\u001b[0;34m)\u001b[0m\u001b[0;34m:\u001b[0m\u001b[0;34m\u001b[0m\u001b[0;34m\u001b[0m\u001b[0m\n\u001b[1;32m   1001\u001b[0m                     raise AttributeError('{!r} object has no property {!r}'\n\u001b[0;32m-> 1002\u001b[0;31m                                          .format(type(self).__name__, k))\n\u001b[0m\u001b[1;32m   1003\u001b[0m                 \u001b[0;32mreturn\u001b[0m \u001b[0mfunc\u001b[0m\u001b[0;34m(\u001b[0m\u001b[0mv\u001b[0m\u001b[0;34m)\u001b[0m\u001b[0;34m\u001b[0m\u001b[0;34m\u001b[0m\u001b[0m\n\u001b[1;32m   1004\u001b[0m \u001b[0;34m\u001b[0m\u001b[0m\n",
            "\u001b[0;31mAttributeError\u001b[0m: 'Rectangle' object has no property 'normed'"
          ]
        },
        {
          "output_type": "display_data",
          "data": {
            "text/plain": [
              "<Figure size 432x288 with 1 Axes>"
            ],
            "image/png": "[encoded data removed]"
          },
          "metadata": {
            "needs_background": "light"
          }
        }
      ]
    },
    {
      "cell_type": "code",
      "source": [
        "import numpy as np\n",
        "import pandas as pd\n",
        "import matplotlib.pyplot as plt\n",
        "%matplotlib inline\n",
        "m = np.random.randint(2,10,40)\n",
        "print(m)\n"
      ],
      "metadata": {
        "id": "4n6OsQ4L3dyU",
        "colab": {
          "base_uri": "https://localhost:8080/"
        },
        "outputId": "bba32bea-376d-4d3b-875f-c0c60c13277b"
      },
      "execution_count": 5,
      "outputs": [
        {
          "output_type": "stream",
          "name": "stdout",
          "text": [
            "[4 8 7 8 6 3 4 6 9 5 2 5 8 7 6 9 8 5 4 9 6 3 3 2 2 8 7 8 4 6 6 9 3 6 5 2 8\n",
            " 8 8 7]\n"
          ]
        }
      ]
    },
    {
      "cell_type": "code",
      "source": [
        "df = pd.DataFrame(m)\n",
        "df = pd.DataFrame(df[0].value_counts())"
      ],
      "metadata": {
        "id": "leEiOdTRb8Bl"
      },
      "execution_count": 6,
      "outputs": []
    },
    {
      "cell_type": "code",
      "source": [
        "df"
      ],
      "metadata": {
        "colab": {
          "base_uri": "https://localhost:8080/",
          "height": 300
        },
        "id": "7oaJtnoOcM_v",
        "outputId": "8910afdd-6f3f-4834-bebd-1cbc4060f70d"
      },
      "execution_count": 7,
      "outputs": [
        {
          "output_type": "execute_result",
          "data": {
            "text/plain": [
              "   0\n",
              "8  9\n",
              "6  7\n",
              "4  4\n",
              "7  4\n",
              "3  4\n",
              "9  4\n",
              "5  4\n",
              "2  4"
            ],
            "text/html": [
              "\n",
              "  <div id=\"df-ddac4782-0dc4-4462-8a94-22f63118236c\">\n",
              "    <div class=\"colab-df-container\">\n",
              "      <div>\n",
              "<style scoped>\n",
              "    .dataframe tbody tr th:only-of-type {\n",
              "        vertical-align: middle;\n",
              "    }\n",
              "\n",
              "    .dataframe tbody tr th {\n",
              "        vertical-align: top;\n",
              "    }\n",
              "\n",
              "    .dataframe thead th {\n",
              "        text-align: right;\n",
              "    }\n",
              "</style>\n",
              "<table border=\"1\" class=\"dataframe\">\n",
              "  <thead>\n",
              "    <tr style=\"text-align: right;\">\n",
              "      <th></th>\n",
              "      <th>0</th>\n",
              "    </tr>\n",
              "  </thead>\n",
              "  <tbody>\n",
              "    <tr>\n",
              "      <th>8</th>\n",
              "      <td>9</td>\n",
              "    </tr>\n",
              "    <tr>\n",
              "      <th>6</th>\n",
              "      <td>7</td>\n",
              "    </tr>\n",
              "    <tr>\n",
              "      <th>4</th>\n",
              "      <td>4</td>\n",
              "    </tr>\n",
              "    <tr>\n",
              "      <th>7</th>\n",
              "      <td>4</td>\n",
              "    </tr>\n",
              "    <tr>\n",
              "      <th>3</th>\n",
              "      <td>4</td>\n",
              "    </tr>\n",
              "    <tr>\n",
              "      <th>9</th>\n",
              "      <td>4</td>\n",
              "    </tr>\n",
              "    <tr>\n",
              "      <th>5</th>\n",
              "      <td>4</td>\n",
              "    </tr>\n",
              "    <tr>\n",
              "      <th>2</th>\n",
              "      <td>4</td>\n",
              "    </tr>\n",
              "  </tbody>\n",
              "</table>\n",
              "</div>\n",
              "      <button class=\"colab-df-convert\" onclick=\"convertToInteractive('df-ddac4782-0dc4-4462-8a94-22f63118236c')\"\n",
              "              title=\"Convert this dataframe to an interactive table.\"\n",
              "              style=\"display:none;\">\n",
              "        \n",
              "  <svg xmlns=\"http://www.w3.org/2000/svg\" height=\"24px\"viewBox=\"0 0 24 24\"\n",
              "       width=\"24px\">\n",
              "    <path d=\"M0 0h24v24H0V0z\" fill=\"none\"/>\n",
              "    <path d=\"M18.56 5.44l.94 2.06.94-2.06 2.06-.94-2.06-.94-.94-2.06-.94 2.06-2.06.94zm-11 1L8.5 8.5l.94-2.06 2.06-.94-2.06-.94L8.5 2.5l-.94 2.06-2.06.94zm10 10l.94 2.06.94-2.06 2.06-.94-2.06-.94-.94-2.06-.94 2.06-2.06.94z\"/><path d=\"M17.41 7.96l-1.37-1.37c-.4-.4-.92-.59-1.43-.59-.52 0-1.04.2-1.43.59L10.3 9.45l-7.72 7.72c-.78.78-.78 2.05 0 2.83L4 21.41c.39.39.9.59 1.41.59.51 0 1.02-.2 1.41-.59l7.78-7.78 2.81-2.81c.8-.78.8-2.07 0-2.86zM5.41 20L4 18.59l7.72-7.72 1.47 1.35L5.41 20z\"/>\n",
              "  </svg>\n",
              "      </button>\n",
              "      \n",
              "  <style>\n",
              "    .colab-df-container {\n",
              "      display:flex;\n",
              "      flex-wrap:wrap;\n",
              "      gap: 12px;\n",
              "    }\n",
              "\n",
              "    .colab-df-convert {\n",
              "      background-color: #E8F0FE;\n",
              "      border: none;\n",
              "      border-radius: 50%;\n",
              "      cursor: pointer;\n",
              "      display: none;\n",
              "      fill: #1967D2;\n",
              "      height: 32px;\n",
              "      padding: 0 0 0 0;\n",
              "      width: 32px;\n",
              "    }\n",
              "\n",
              "    .colab-df-convert:hover {\n",
              "      background-color: #E2EBFA;\n",
              "      box-shadow: 0px 1px 2px rgba(60, 64, 67, 0.3), 0px 1px 3px 1px rgba(60, 64, 67, 0.15);\n",
              "      fill: #174EA6;\n",
              "    }\n",
              "\n",
              "    [theme=dark] .colab-df-convert {\n",
              "      background-color: #3B4455;\n",
              "      fill: #D2E3FC;\n",
              "    }\n",
              "\n",
              "    [theme=dark] .colab-df-convert:hover {\n",
              "      background-color: #434B5C;\n",
              "      box-shadow: 0px 1px 3px 1px rgba(0, 0, 0, 0.15);\n",
              "      filter: drop-shadow(0px 1px 2px rgba(0, 0, 0, 0.3));\n",
              "      fill: #FFFFFF;\n",
              "    }\n",
              "  </style>\n",
              "\n",
              "      <script>\n",
              "        const buttonEl =\n",
              "          document.querySelector('#df-ddac4782-0dc4-4462-8a94-22f63118236c button.colab-df-convert');\n",
              "        buttonEl.style.display =\n",
              "          google.colab.kernel.accessAllowed ? 'block' : 'none';\n",
              "\n",
              "        async function convertToInteractive(key) {\n",
              "          const element = document.querySelector('#df-ddac4782-0dc4-4462-8a94-22f63118236c');\n",
              "          const dataTable =\n",
              "            await google.colab.kernel.invokeFunction('convertToInteractive',\n",
              "                                                     [key], {});\n",
              "          if (!dataTable) return;\n",
              "\n",
              "          const docLinkHtml = 'Like what you see? Visit the ' +\n",
              "            '<a target=\"_blank\" href=https://colab.research.google.com/notebooks/data_table.ipynb>data table notebook</a>'\n",
              "            + ' to learn more about interactive tables.';\n",
              "          element.innerHTML = '';\n",
              "          dataTable['output_type'] = 'display_data';\n",
              "          await google.colab.output.renderOutput(dataTable, element);\n",
              "          const docLink = document.createElement('div');\n",
              "          docLink.innerHTML = docLinkHtml;\n",
              "          element.appendChild(docLink);\n",
              "        }\n",
              "      </script>\n",
              "    </div>\n",
              "  </div>\n",
              "  "
            ]
          },
          "metadata": {},
          "execution_count": 7
        }
      ]
    },
    {
      "cell_type": "code",
      "source": [
        "length = len(m)"
      ],
      "metadata": {
        "id": "JNiKcr1ecOn_"
      },
      "execution_count": 8,
      "outputs": []
    },
    {
      "cell_type": "code",
      "source": [
        "length"
      ],
      "metadata": {
        "colab": {
          "base_uri": "https://localhost:8080/"
        },
        "id": "4vEEHBZNcYYv",
        "outputId": "78162f2b-4b7a-4ff3-9807-6d9ced1fa39e"
      },
      "execution_count": 9,
      "outputs": [
        {
          "output_type": "execute_result",
          "data": {
            "text/plain": [
              "40"
            ]
          },
          "metadata": {},
          "execution_count": 9
        }
      ]
    },
    {
      "cell_type": "code",
      "source": [
        "data = pd.DataFrame(df[0])"
      ],
      "metadata": {
        "id": "p__cpT-BcePd"
      },
      "execution_count": 10,
      "outputs": []
    },
    {
      "cell_type": "code",
      "source": [
        "data"
      ],
      "metadata": {
        "colab": {
          "base_uri": "https://localhost:8080/",
          "height": 300
        },
        "id": "bS-PfOg7clEQ",
        "outputId": "9fde6476-d717-409f-d1a2-002a6a834194"
      },
      "execution_count": 11,
      "outputs": [
        {
          "output_type": "execute_result",
          "data": {
            "text/plain": [
              "   0\n",
              "8  9\n",
              "6  7\n",
              "4  4\n",
              "7  4\n",
              "3  4\n",
              "9  4\n",
              "5  4\n",
              "2  4"
            ],
            "text/html": [
              "\n",
              "  <div id=\"df-d0b49b33-d2e7-462d-8d46-7f997e470b4f\">\n",
              "    <div class=\"colab-df-container\">\n",
              "      <div>\n",
              "<style scoped>\n",
              "    .dataframe tbody tr th:only-of-type {\n",
              "        vertical-align: middle;\n",
              "    }\n",
              "\n",
              "    .dataframe tbody tr th {\n",
              "        vertical-align: top;\n",
              "    }\n",
              "\n",
              "    .dataframe thead th {\n",
              "        text-align: right;\n",
              "    }\n",
              "</style>\n",
              "<table border=\"1\" class=\"dataframe\">\n",
              "  <thead>\n",
              "    <tr style=\"text-align: right;\">\n",
              "      <th></th>\n",
              "      <th>0</th>\n",
              "    </tr>\n",
              "  </thead>\n",
              "  <tbody>\n",
              "    <tr>\n",
              "      <th>8</th>\n",
              "      <td>9</td>\n",
              "    </tr>\n",
              "    <tr>\n",
              "      <th>6</th>\n",
              "      <td>7</td>\n",
              "    </tr>\n",
              "    <tr>\n",
              "      <th>4</th>\n",
              "      <td>4</td>\n",
              "    </tr>\n",
              "    <tr>\n",
              "      <th>7</th>\n",
              "      <td>4</td>\n",
              "    </tr>\n",
              "    <tr>\n",
              "      <th>3</th>\n",
              "      <td>4</td>\n",
              "    </tr>\n",
              "    <tr>\n",
              "      <th>9</th>\n",
              "      <td>4</td>\n",
              "    </tr>\n",
              "    <tr>\n",
              "      <th>5</th>\n",
              "      <td>4</td>\n",
              "    </tr>\n",
              "    <tr>\n",
              "      <th>2</th>\n",
              "      <td>4</td>\n",
              "    </tr>\n",
              "  </tbody>\n",
              "</table>\n",
              "</div>\n",
              "      <button class=\"colab-df-convert\" onclick=\"convertToInteractive('df-d0b49b33-d2e7-462d-8d46-7f997e470b4f')\"\n",
              "              title=\"Convert this dataframe to an interactive table.\"\n",
              "              style=\"display:none;\">\n",
              "        \n",
              "  <svg xmlns=\"http://www.w3.org/2000/svg\" height=\"24px\"viewBox=\"0 0 24 24\"\n",
              "       width=\"24px\">\n",
              "    <path d=\"M0 0h24v24H0V0z\" fill=\"none\"/>\n",
              "    <path d=\"M18.56 5.44l.94 2.06.94-2.06 2.06-.94-2.06-.94-.94-2.06-.94 2.06-2.06.94zm-11 1L8.5 8.5l.94-2.06 2.06-.94-2.06-.94L8.5 2.5l-.94 2.06-2.06.94zm10 10l.94 2.06.94-2.06 2.06-.94-2.06-.94-.94-2.06-.94 2.06-2.06.94z\"/><path d=\"M17.41 7.96l-1.37-1.37c-.4-.4-.92-.59-1.43-.59-.52 0-1.04.2-1.43.59L10.3 9.45l-7.72 7.72c-.78.78-.78 2.05 0 2.83L4 21.41c.39.39.9.59 1.41.59.51 0 1.02-.2 1.41-.59l7.78-7.78 2.81-2.81c.8-.78.8-2.07 0-2.86zM5.41 20L4 18.59l7.72-7.72 1.47 1.35L5.41 20z\"/>\n",
              "  </svg>\n",
              "      </button>\n",
              "      \n",
              "  <style>\n",
              "    .colab-df-container {\n",
              "      display:flex;\n",
              "      flex-wrap:wrap;\n",
              "      gap: 12px;\n",
              "    }\n",
              "\n",
              "    .colab-df-convert {\n",
              "      background-color: #E8F0FE;\n",
              "      border: none;\n",
              "      border-radius: 50%;\n",
              "      cursor: pointer;\n",
              "      display: none;\n",
              "      fill: #1967D2;\n",
              "      height: 32px;\n",
              "      padding: 0 0 0 0;\n",
              "      width: 32px;\n",
              "    }\n",
              "\n",
              "    .colab-df-convert:hover {\n",
              "      background-color: #E2EBFA;\n",
              "      box-shadow: 0px 1px 2px rgba(60, 64, 67, 0.3), 0px 1px 3px 1px rgba(60, 64, 67, 0.15);\n",
              "      fill: #174EA6;\n",
              "    }\n",
              "\n",
              "    [theme=dark] .colab-df-convert {\n",
              "      background-color: #3B4455;\n",
              "      fill: #D2E3FC;\n",
              "    }\n",
              "\n",
              "    [theme=dark] .colab-df-convert:hover {\n",
              "      background-color: #434B5C;\n",
              "      box-shadow: 0px 1px 3px 1px rgba(0, 0, 0, 0.15);\n",
              "      filter: drop-shadow(0px 1px 2px rgba(0, 0, 0, 0.3));\n",
              "      fill: #FFFFFF;\n",
              "    }\n",
              "  </style>\n",
              "\n",
              "      <script>\n",
              "        const buttonEl =\n",
              "          document.querySelector('#df-d0b49b33-d2e7-462d-8d46-7f997e470b4f button.colab-df-convert');\n",
              "        buttonEl.style.display =\n",
              "          google.colab.kernel.accessAllowed ? 'block' : 'none';\n",
              "\n",
              "        async function convertToInteractive(key) {\n",
              "          const element = document.querySelector('#df-d0b49b33-d2e7-462d-8d46-7f997e470b4f');\n",
              "          const dataTable =\n",
              "            await google.colab.kernel.invokeFunction('convertToInteractive',\n",
              "                                                     [key], {});\n",
              "          if (!dataTable) return;\n",
              "\n",
              "          const docLinkHtml = 'Like what you see? Visit the ' +\n",
              "            '<a target=\"_blank\" href=https://colab.research.google.com/notebooks/data_table.ipynb>data table notebook</a>'\n",
              "            + ' to learn more about interactive tables.';\n",
              "          element.innerHTML = '';\n",
              "          dataTable['output_type'] = 'display_data';\n",
              "          await google.colab.output.renderOutput(dataTable, element);\n",
              "          const docLink = document.createElement('div');\n",
              "          docLink.innerHTML = docLinkHtml;\n",
              "          element.appendChild(docLink);\n",
              "        }\n",
              "      </script>\n",
              "    </div>\n",
              "  </div>\n",
              "  "
            ]
          },
          "metadata": {},
          "execution_count": 11
        }
      ]
    },
    {
      "cell_type": "code",
      "source": [
        "data.columns = ['counts']"
      ],
      "metadata": {
        "id": "H9JVjB4Kcmvh"
      },
      "execution_count": 12,
      "outputs": []
    },
    {
      "cell_type": "code",
      "source": [
        "data"
      ],
      "metadata": {
        "colab": {
          "base_uri": "https://localhost:8080/",
          "height": 300
        },
        "id": "QHUFaBwqcvra",
        "outputId": "ce1b92db-c1af-42fa-d8ef-1bdabe7ec201"
      },
      "execution_count": 13,
      "outputs": [
        {
          "output_type": "execute_result",
          "data": {
            "text/plain": [
              "   counts\n",
              "8       9\n",
              "6       7\n",
              "4       4\n",
              "7       4\n",
              "3       4\n",
              "9       4\n",
              "5       4\n",
              "2       4"
            ],
            "text/html": [
              "\n",
              "  <div id=\"df-97513e28-59b3-45aa-a27f-e99b8b49d2d7\">\n",
              "    <div class=\"colab-df-container\">\n",
              "      <div>\n",
              "<style scoped>\n",
              "    .dataframe tbody tr th:only-of-type {\n",
              "        vertical-align: middle;\n",
              "    }\n",
              "\n",
              "    .dataframe tbody tr th {\n",
              "        vertical-align: top;\n",
              "    }\n",
              "\n",
              "    .dataframe thead th {\n",
              "        text-align: right;\n",
              "    }\n",
              "</style>\n",
              "<table border=\"1\" class=\"dataframe\">\n",
              "  <thead>\n",
              "    <tr style=\"text-align: right;\">\n",
              "      <th></th>\n",
              "      <th>counts</th>\n",
              "    </tr>\n",
              "  </thead>\n",
              "  <tbody>\n",
              "    <tr>\n",
              "      <th>8</th>\n",
              "      <td>9</td>\n",
              "    </tr>\n",
              "    <tr>\n",
              "      <th>6</th>\n",
              "      <td>7</td>\n",
              "    </tr>\n",
              "    <tr>\n",
              "      <th>4</th>\n",
              "      <td>4</td>\n",
              "    </tr>\n",
              "    <tr>\n",
              "      <th>7</th>\n",
              "      <td>4</td>\n",
              "    </tr>\n",
              "    <tr>\n",
              "      <th>3</th>\n",
              "      <td>4</td>\n",
              "    </tr>\n",
              "    <tr>\n",
              "      <th>9</th>\n",
              "      <td>4</td>\n",
              "    </tr>\n",
              "    <tr>\n",
              "      <th>5</th>\n",
              "      <td>4</td>\n",
              "    </tr>\n",
              "    <tr>\n",
              "      <th>2</th>\n",
              "      <td>4</td>\n",
              "    </tr>\n",
              "  </tbody>\n",
              "</table>\n",
              "</div>\n",
              "      <button class=\"colab-df-convert\" onclick=\"convertToInteractive('df-97513e28-59b3-45aa-a27f-e99b8b49d2d7')\"\n",
              "              title=\"Convert this dataframe to an interactive table.\"\n",
              "              style=\"display:none;\">\n",
              "        \n",
              "  <svg xmlns=\"http://www.w3.org/2000/svg\" height=\"24px\"viewBox=\"0 0 24 24\"\n",
              "       width=\"24px\">\n",
              "    <path d=\"M0 0h24v24H0V0z\" fill=\"none\"/>\n",
              "    <path d=\"M18.56 5.44l.94 2.06.94-2.06 2.06-.94-2.06-.94-.94-2.06-.94 2.06-2.06.94zm-11 1L8.5 8.5l.94-2.06 2.06-.94-2.06-.94L8.5 2.5l-.94 2.06-2.06.94zm10 10l.94 2.06.94-2.06 2.06-.94-2.06-.94-.94-2.06-.94 2.06-2.06.94z\"/><path d=\"M17.41 7.96l-1.37-1.37c-.4-.4-.92-.59-1.43-.59-.52 0-1.04.2-1.43.59L10.3 9.45l-7.72 7.72c-.78.78-.78 2.05 0 2.83L4 21.41c.39.39.9.59 1.41.59.51 0 1.02-.2 1.41-.59l7.78-7.78 2.81-2.81c.8-.78.8-2.07 0-2.86zM5.41 20L4 18.59l7.72-7.72 1.47 1.35L5.41 20z\"/>\n",
              "  </svg>\n",
              "      </button>\n",
              "      \n",
              "  <style>\n",
              "    .colab-df-container {\n",
              "      display:flex;\n",
              "      flex-wrap:wrap;\n",
              "      gap: 12px;\n",
              "    }\n",
              "\n",
              "    .colab-df-convert {\n",
              "      background-color: #E8F0FE;\n",
              "      border: none;\n",
              "      border-radius: 50%;\n",
              "      cursor: pointer;\n",
              "      display: none;\n",
              "      fill: #1967D2;\n",
              "      height: 32px;\n",
              "      padding: 0 0 0 0;\n",
              "      width: 32px;\n",
              "    }\n",
              "\n",
              "    .colab-df-convert:hover {\n",
              "      background-color: #E2EBFA;\n",
              "      box-shadow: 0px 1px 2px rgba(60, 64, 67, 0.3), 0px 1px 3px 1px rgba(60, 64, 67, 0.15);\n",
              "      fill: #174EA6;\n",
              "    }\n",
              "\n",
              "    [theme=dark] .colab-df-convert {\n",
              "      background-color: #3B4455;\n",
              "      fill: #D2E3FC;\n",
              "    }\n",
              "\n",
              "    [theme=dark] .colab-df-convert:hover {\n",
              "      background-color: #434B5C;\n",
              "      box-shadow: 0px 1px 3px 1px rgba(0, 0, 0, 0.15);\n",
              "      filter: drop-shadow(0px 1px 2px rgba(0, 0, 0, 0.3));\n",
              "      fill: #FFFFFF;\n",
              "    }\n",
              "  </style>\n",
              "\n",
              "      <script>\n",
              "        const buttonEl =\n",
              "          document.querySelector('#df-97513e28-59b3-45aa-a27f-e99b8b49d2d7 button.colab-df-convert');\n",
              "        buttonEl.style.display =\n",
              "          google.colab.kernel.accessAllowed ? 'block' : 'none';\n",
              "\n",
              "        async function convertToInteractive(key) {\n",
              "          const element = document.querySelector('#df-97513e28-59b3-45aa-a27f-e99b8b49d2d7');\n",
              "          const dataTable =\n",
              "            await google.colab.kernel.invokeFunction('convertToInteractive',\n",
              "                                                     [key], {});\n",
              "          if (!dataTable) return;\n",
              "\n",
              "          const docLinkHtml = 'Like what you see? Visit the ' +\n",
              "            '<a target=\"_blank\" href=https://colab.research.google.com/notebooks/data_table.ipynb>data table notebook</a>'\n",
              "            + ' to learn more about interactive tables.';\n",
              "          element.innerHTML = '';\n",
              "          dataTable['output_type'] = 'display_data';\n",
              "          await google.colab.output.renderOutput(dataTable, element);\n",
              "          const docLink = document.createElement('div');\n",
              "          docLink.innerHTML = docLinkHtml;\n",
              "          element.appendChild(docLink);\n",
              "        }\n",
              "      </script>\n",
              "    </div>\n",
              "  </div>\n",
              "  "
            ]
          },
          "metadata": {},
          "execution_count": 13
        }
      ]
    },
    {
      "cell_type": "code",
      "source": [
        "data['pmf'] = data['counts']/length"
      ],
      "metadata": {
        "id": "A0b8Z-wIcw7c"
      },
      "execution_count": 14,
      "outputs": []
    },
    {
      "cell_type": "code",
      "source": [
        "data"
      ],
      "metadata": {
        "colab": {
          "base_uri": "https://localhost:8080/",
          "height": 300
        },
        "id": "UGNIJ5FTc_CQ",
        "outputId": "17f478db-5d11-4513-8435-d3724b82b8c7"
      },
      "execution_count": 15,
      "outputs": [
        {
          "output_type": "execute_result",
          "data": {
            "text/plain": [
              "   counts    pmf\n",
              "8       9  0.225\n",
              "6       7  0.175\n",
              "4       4  0.100\n",
              "7       4  0.100\n",
              "3       4  0.100\n",
              "9       4  0.100\n",
              "5       4  0.100\n",
              "2       4  0.100"
            ],
            "text/html": [
              "\n",
              "  <div id=\"df-dd3c55f8-29ee-4853-b6c3-134447e1da59\">\n",
              "    <div class=\"colab-df-container\">\n",
              "      <div>\n",
              "<style scoped>\n",
              "    .dataframe tbody tr th:only-of-type {\n",
              "        vertical-align: middle;\n",
              "    }\n",
              "\n",
              "    .dataframe tbody tr th {\n",
              "        vertical-align: top;\n",
              "    }\n",
              "\n",
              "    .dataframe thead th {\n",
              "        text-align: right;\n",
              "    }\n",
              "</style>\n",
              "<table border=\"1\" class=\"dataframe\">\n",
              "  <thead>\n",
              "    <tr style=\"text-align: right;\">\n",
              "      <th></th>\n",
              "      <th>counts</th>\n",
              "      <th>pmf</th>\n",
              "    </tr>\n",
              "  </thead>\n",
              "  <tbody>\n",
              "    <tr>\n",
              "      <th>8</th>\n",
              "      <td>9</td>\n",
              "      <td>0.225</td>\n",
              "    </tr>\n",
              "    <tr>\n",
              "      <th>6</th>\n",
              "      <td>7</td>\n",
              "      <td>0.175</td>\n",
              "    </tr>\n",
              "    <tr>\n",
              "      <th>4</th>\n",
              "      <td>4</td>\n",
              "      <td>0.100</td>\n",
              "    </tr>\n",
              "    <tr>\n",
              "      <th>7</th>\n",
              "      <td>4</td>\n",
              "      <td>0.100</td>\n",
              "    </tr>\n",
              "    <tr>\n",
              "      <th>3</th>\n",
              "      <td>4</td>\n",
              "      <td>0.100</td>\n",
              "    </tr>\n",
              "    <tr>\n",
              "      <th>9</th>\n",
              "      <td>4</td>\n",
              "      <td>0.100</td>\n",
              "    </tr>\n",
              "    <tr>\n",
              "      <th>5</th>\n",
              "      <td>4</td>\n",
              "      <td>0.100</td>\n",
              "    </tr>\n",
              "    <tr>\n",
              "      <th>2</th>\n",
              "      <td>4</td>\n",
              "      <td>0.100</td>\n",
              "    </tr>\n",
              "  </tbody>\n",
              "</table>\n",
              "</div>\n",
              "      <button class=\"colab-df-convert\" onclick=\"convertToInteractive('df-dd3c55f8-29ee-4853-b6c3-134447e1da59')\"\n",
              "              title=\"Convert this dataframe to an interactive table.\"\n",
              "              style=\"display:none;\">\n",
              "        \n",
              "  <svg xmlns=\"http://www.w3.org/2000/svg\" height=\"24px\"viewBox=\"0 0 24 24\"\n",
              "       width=\"24px\">\n",
              "    <path d=\"M0 0h24v24H0V0z\" fill=\"none\"/>\n",
              "    <path d=\"M18.56 5.44l.94 2.06.94-2.06 2.06-.94-2.06-.94-.94-2.06-.94 2.06-2.06.94zm-11 1L8.5 8.5l.94-2.06 2.06-.94-2.06-.94L8.5 2.5l-.94 2.06-2.06.94zm10 10l.94 2.06.94-2.06 2.06-.94-2.06-.94-.94-2.06-.94 2.06-2.06.94z\"/><path d=\"M17.41 7.96l-1.37-1.37c-.4-.4-.92-.59-1.43-.59-.52 0-1.04.2-1.43.59L10.3 9.45l-7.72 7.72c-.78.78-.78 2.05 0 2.83L4 21.41c.39.39.9.59 1.41.59.51 0 1.02-.2 1.41-.59l7.78-7.78 2.81-2.81c.8-.78.8-2.07 0-2.86zM5.41 20L4 18.59l7.72-7.72 1.47 1.35L5.41 20z\"/>\n",
              "  </svg>\n",
              "      </button>\n",
              "      \n",
              "  <style>\n",
              "    .colab-df-container {\n",
              "      display:flex;\n",
              "      flex-wrap:wrap;\n",
              "      gap: 12px;\n",
              "    }\n",
              "\n",
              "    .colab-df-convert {\n",
              "      background-color: #E8F0FE;\n",
              "      border: none;\n",
              "      border-radius: 50%;\n",
              "      cursor: pointer;\n",
              "      display: none;\n",
              "      fill: #1967D2;\n",
              "      height: 32px;\n",
              "      padding: 0 0 0 0;\n",
              "      width: 32px;\n",
              "    }\n",
              "\n",
              "    .colab-df-convert:hover {\n",
              "      background-color: #E2EBFA;\n",
              "      box-shadow: 0px 1px 2px rgba(60, 64, 67, 0.3), 0px 1px 3px 1px rgba(60, 64, 67, 0.15);\n",
              "      fill: #174EA6;\n",
              "    }\n",
              "\n",
              "    [theme=dark] .colab-df-convert {\n",
              "      background-color: #3B4455;\n",
              "      fill: #D2E3FC;\n",
              "    }\n",
              "\n",
              "    [theme=dark] .colab-df-convert:hover {\n",
              "      background-color: #434B5C;\n",
              "      box-shadow: 0px 1px 3px 1px rgba(0, 0, 0, 0.15);\n",
              "      filter: drop-shadow(0px 1px 2px rgba(0, 0, 0, 0.3));\n",
              "      fill: #FFFFFF;\n",
              "    }\n",
              "  </style>\n",
              "\n",
              "      <script>\n",
              "        const buttonEl =\n",
              "          document.querySelector('#df-dd3c55f8-29ee-4853-b6c3-134447e1da59 button.colab-df-convert');\n",
              "        buttonEl.style.display =\n",
              "          google.colab.kernel.accessAllowed ? 'block' : 'none';\n",
              "\n",
              "        async function convertToInteractive(key) {\n",
              "          const element = document.querySelector('#df-dd3c55f8-29ee-4853-b6c3-134447e1da59');\n",
              "          const dataTable =\n",
              "            await google.colab.kernel.invokeFunction('convertToInteractive',\n",
              "                                                     [key], {});\n",
              "          if (!dataTable) return;\n",
              "\n",
              "          const docLinkHtml = 'Like what you see? Visit the ' +\n",
              "            '<a target=\"_blank\" href=https://colab.research.google.com/notebooks/data_table.ipynb>data table notebook</a>'\n",
              "            + ' to learn more about interactive tables.';\n",
              "          element.innerHTML = '';\n",
              "          dataTable['output_type'] = 'display_data';\n",
              "          await google.colab.output.renderOutput(dataTable, element);\n",
              "          const docLink = document.createElement('div');\n",
              "          docLink.innerHTML = docLinkHtml;\n",
              "          element.appendChild(docLink);\n",
              "        }\n",
              "      </script>\n",
              "    </div>\n",
              "  </div>\n",
              "  "
            ]
          },
          "metadata": {},
          "execution_count": 15
        }
      ]
    },
    {
      "cell_type": "code",
      "source": [
        "plt.bar(data['counts'], data['pmf'])"
      ],
      "metadata": {
        "colab": {
          "base_uri": "https://localhost:8080/",
          "height": 282
        },
        "id": "mfyJLWiXdONS",
        "outputId": "62fdb7d5-b41a-4c15-c29f-fbdb66e9d844"
      },
      "execution_count": 16,
      "outputs": [
        {
          "output_type": "execute_result",
          "data": {
            "text/plain": [
              "<BarContainer object of 8 artists>"
            ]
          },
          "metadata": {},
          "execution_count": 16
        },
        {
          "output_type": "display_data",
          "data": {
            "text/plain": [
              "<Figure size 432x288 with 1 Axes>"
            ],
            "image/png": "[encoded data removed]"
          },
          "metadata": {
            "needs_background": "light"
          }
        }
      ]
    },
    {
      "cell_type": "code",
      "source": [
        "import seaborn as sns"
      ],
      "metadata": {
        "id": "q9S1OQmsdZkn"
      },
      "execution_count": 17,
      "outputs": []
    },
    {
      "cell_type": "code",
      "source": [
        "sns.barplot(data['counts'], data['pmf'])"
      ],
      "metadata": {
        "colab": {
          "base_uri": "https://localhost:8080/",
          "height": 351
        },
        "id": "5YOi00Qcdjnq",
        "outputId": "bba8478a-9432-4ca8-f20b-fab2d28b7808"
      },
      "execution_count": 18,
      "outputs": [
        {
          "output_type": "stream",
          "name": "stderr",
          "text": [
            "/usr/local/lib/python3.7/dist-packages/seaborn/_decorators.py:43: FutureWarning: Pass the following variables as keyword args: x, y. From version 0.12, the only valid positional argument will be `data`, and passing other arguments without an explicit keyword will result in an error or misinterpretation.\n",
            "  FutureWarning\n"
          ]
        },
        {
          "output_type": "execute_result",
          "data": {
            "text/plain": [
              "<matplotlib.axes._subplots.AxesSubplot at 0x7f0b50990850>"
            ]
          },
          "metadata": {},
          "execution_count": 18
        },
        {
          "output_type": "display_data",
          "data": {
            "text/plain": [
              "<Figure size 432x288 with 1 Axes>"
            ],
            "image/png": "[encoded data removed]"
          },
          "metadata": {
            "needs_background": "light"
          }
        }
      ]
    },
    {
      "cell_type": "code",
      "source": [
        "\n",
        "import statistics\n",
        "from scipy.stats import norm\n",
        "from numpy.random import normal\n",
        "from matplotlib import pyplot"
      ],
      "metadata": {
        "id": "m-6BzzG3dpRc"
      },
      "execution_count": 19,
      "outputs": []
    },
    {
      "cell_type": "code",
      "source": [
        "sample = normal(size=1000)\n",
        "pyplot.hist(sample, bins =10)\n",
        "pyplot.show()"
      ],
      "metadata": {
        "colab": {
          "base_uri": "https://localhost:8080/",
          "height": 265
        },
        "id": "bEa5zdkyPLBF",
        "outputId": "ff5cea57-654d-4340-9899-057dd7e09e99"
      },
      "execution_count": 20,
      "outputs": [
        {
          "output_type": "display_data",
          "data": {
            "text/plain": [
              "<Figure size 432x288 with 1 Axes>"
            ],
            "image/png": "[encoded data removed]"
          },
          "metadata": {
            "needs_background": "light"
          }
        }
      ]
    },
    {
      "cell_type": "code",
      "source": [
        "sample = normal(loc=50, scale =5, size =1000)\n",
        "#a random distribution with a mean of 50 and standard deviation of 5\n",
        "sample"
      ],
      "metadata": {
        "colab": {
          "base_uri": "https://localhost:8080/"
        },
        "id": "qGhkZP5aQGwT",
        "outputId": "3dcf3ee1-0343-4bc3-8c2f-3cbab2ebad93"
      },
      "execution_count": 21,
      "outputs": [
        {
          "output_type": "execute_result",
          "data": {
            "text/plain": [
              "array([42.31094883, 47.45196021, 48.21041519, 57.28451476, 51.72939278,\n",
              "       44.28588333, 48.01247964, 47.37357256, 49.49858048, 45.20859552,\n",
              "       63.13090463, 48.00003063, 55.10226623, 56.52341498, 45.22135925,\n",
              "       49.08367927, 60.29661345, 48.65416442, 49.03539572, 51.04530478,\n",
              "       47.69813172, 61.00882344, 49.28430108, 50.43287073, 56.741721  ,\n",
              "       48.43890652, 54.78217116, 48.3775248 , 65.4997441 , 42.17589402,\n",
              "       46.69978479, 52.06754254, 49.70613165, 52.57499517, 51.23304234,\n",
              "       45.70770851, 49.5181325 , 38.84489595, 48.30133556, 49.27233457,\n",
              "       51.5974078 , 48.3905418 , 46.27748006, 47.4178394 , 49.26924773,\n",
              "       52.93939101, 49.52187232, 47.19224119, 54.45379904, 54.05718239,\n",
              "       54.2912272 , 50.44601686, 55.70772038, 49.03329105, 50.66376932,\n",
              "       53.89670058, 45.48922329, 55.45251243, 58.75468517, 38.84797516,\n",
              "       57.21769757, 52.10848609, 55.53471104, 46.67531408, 57.06445775,\n",
              "       59.92374499, 48.91473552, 46.89993221, 42.55406215, 55.38965462,\n",
              "       50.20758551, 48.53599022, 50.35538745, 39.70344397, 51.65403114,\n",
              "       62.73505531, 47.67871554, 56.48579908, 47.14524766, 59.12812265,\n",
              "       42.97899792, 50.82975225, 48.71882311, 50.58459421, 47.69040201,\n",
              "       41.15287449, 44.16162546, 51.73561801, 48.64776452, 44.04747936,\n",
              "       46.42662832, 55.44732683, 39.4483784 , 56.56614965, 55.18339487,\n",
              "       47.5204489 , 43.87418908, 54.54364089, 41.22731041, 46.64620495,\n",
              "       46.11186738, 41.88189154, 47.70756266, 53.84769365, 53.99189552,\n",
              "       54.69153115, 50.33900848, 55.67619482, 53.46662323, 45.23375942,\n",
              "       48.71980746, 46.64093001, 41.31992354, 44.26336706, 60.09666938,\n",
              "       44.85967218, 46.51238506, 47.55029032, 49.68671243, 47.47780898,\n",
              "       53.47404167, 58.82521274, 43.38724725, 46.88325527, 43.70680466,\n",
              "       54.58325812, 51.81051889, 49.41152028, 40.08599068, 51.14509219,\n",
              "       53.71068356, 54.71510246, 48.68720056, 52.62143404, 54.57434772,\n",
              "       46.68265919, 52.22951456, 36.80914344, 47.57394776, 53.64544706,\n",
              "       44.09139533, 42.18343437, 49.49805602, 44.13544318, 58.02910661,\n",
              "       51.82457955, 54.1517829 , 46.49768361, 53.25058508, 44.76247797,\n",
              "       48.16879664, 59.94672948, 47.00215167, 45.33369541, 51.77612461,\n",
              "       48.22720838, 51.73258721, 50.03449238, 46.91694752, 44.71864049,\n",
              "       50.83819821, 54.77113592, 46.75586854, 46.9987817 , 49.64839773,\n",
              "       55.26282075, 56.7407994 , 44.66223337, 51.81183382, 46.5144702 ,\n",
              "       48.7061699 , 47.95096425, 52.02797551, 41.85881194, 45.32852518,\n",
              "       52.24996358, 57.76053415, 52.72575036, 39.42862502, 51.82273788,\n",
              "       37.317869  , 47.92909507, 52.62497925, 51.60578778, 47.9398102 ,\n",
              "       59.29645493, 45.5487522 , 48.21485068, 46.22228443, 48.06299084,\n",
              "       53.65881813, 54.56143663, 48.55087741, 58.22640894, 57.92821937,\n",
              "       49.52588899, 37.07393631, 58.19640678, 53.92641063, 60.63051167,\n",
              "       44.88777101, 49.56790738, 43.43915512, 46.07825306, 47.44110022,\n",
              "       47.55003846, 44.77918662, 56.21764546, 51.80550665, 52.23609478,\n",
              "       53.55121376, 55.06732606, 45.08465195, 57.18501517, 46.49700999,\n",
              "       49.08337115, 53.33494399, 49.46788559, 49.78051333, 51.28352227,\n",
              "       48.66897117, 52.1353972 , 48.4971253 , 54.93288106, 47.18899223,\n",
              "       39.40189598, 48.34721736, 46.69821337, 45.41904266, 45.77047163,\n",
              "       50.81130386, 41.00994907, 51.53554075, 50.41547445, 53.85776539,\n",
              "       55.86225868, 56.77075652, 53.33500294, 54.53170523, 52.26165921,\n",
              "       43.86822578, 46.58658401, 56.73192982, 44.35987129, 55.45910231,\n",
              "       39.91986781, 45.01147452, 51.64377797, 50.96557363, 55.9869993 ,\n",
              "       46.61492374, 48.76695258, 50.05822756, 43.91175621, 43.18178571,\n",
              "       48.68374925, 44.09978517, 42.78982125, 57.3423812 , 41.62813236,\n",
              "       53.61247184, 37.65683469, 51.56532174, 52.85779135, 56.52131504,\n",
              "       49.75381568, 53.57610567, 53.1021652 , 53.10173611, 57.23778155,\n",
              "       51.50924108, 49.05358478, 57.07928143, 50.89603771, 40.32769326,\n",
              "       47.70002948, 54.43773582, 42.80199494, 54.17899947, 48.5669788 ,\n",
              "       54.26453758, 50.52573025, 53.03108697, 43.60606862, 60.87379566,\n",
              "       46.4719741 , 55.15544336, 49.20700618, 44.9784078 , 40.96391753,\n",
              "       52.48581658, 45.89817341, 57.52015964, 57.470044  , 49.68882448,\n",
              "       49.75249898, 48.23128107, 50.1095399 , 51.7877718 , 50.91840222,\n",
              "       50.79612933, 50.32589886, 46.67443848, 50.43609713, 46.63287059,\n",
              "       52.57206222, 52.41303596, 38.97701767, 47.69568019, 55.20837144,\n",
              "       44.43171169, 59.05083733, 56.15469843, 53.96853834, 52.24016035,\n",
              "       53.35881347, 51.45657946, 54.44120986, 53.78351022, 48.12463123,\n",
              "       38.46150181, 51.21545937, 46.91480432, 51.13159751, 55.50149372,\n",
              "       52.21007482, 52.22610341, 53.38251115, 44.77788893, 48.48852745,\n",
              "       48.50293513, 43.53596724, 54.34303466, 53.27181226, 46.28612993,\n",
              "       46.8794818 , 49.91441518, 56.50902178, 48.52640284, 52.74176168,\n",
              "       42.52781416, 40.74415343, 50.35895572, 48.45972561, 57.01805872,\n",
              "       50.93712894, 44.59758891, 48.77099531, 53.12716682, 44.73018722,\n",
              "       46.46430791, 51.8786769 , 48.60736014, 40.68538045, 53.06208692,\n",
              "       49.42415034, 52.79424679, 55.46787943, 50.10248798, 48.72214422,\n",
              "       55.86410807, 54.08131809, 49.01790061, 54.81771703, 50.41292638,\n",
              "       62.41075971, 54.30553347, 49.06008462, 51.32620363, 49.68110112,\n",
              "       50.11251244, 46.93799554, 52.8385788 , 52.42943741, 50.3560477 ,\n",
              "       48.48671308, 47.31427729, 58.84094232, 46.36312716, 58.49366269,\n",
              "       42.68166088, 44.6891708 , 57.66297821, 46.24352467, 51.56456468,\n",
              "       54.88159262, 51.75923908, 50.68575388, 45.26599421, 45.66053199,\n",
              "       48.41355629, 38.76592455, 50.29713642, 55.61614597, 46.40692019,\n",
              "       59.17317699, 48.61902218, 51.03987915, 42.35477251, 49.39865758,\n",
              "       43.94115604, 46.21688809, 49.56315515, 48.62406678, 48.87763329,\n",
              "       42.8919583 , 51.5177521 , 50.17373497, 50.05899434, 53.82436713,\n",
              "       49.81895685, 46.77721401, 54.66524942, 50.97092663, 54.81789673,\n",
              "       48.49987467, 50.19306323, 49.12737841, 46.40702535, 52.9613113 ,\n",
              "       48.12031595, 50.91581171, 51.80736194, 49.44625711, 48.7322798 ,\n",
              "       44.35428688, 49.93837533, 51.1726574 , 50.87814603, 53.4212724 ,\n",
              "       56.81627779, 50.41090285, 50.48633097, 41.3511891 , 43.75894565,\n",
              "       50.87116078, 57.33120395, 47.44351017, 51.76722599, 38.59035882,\n",
              "       48.9434389 , 41.01339624, 62.98861791, 47.07066948, 46.91311479,\n",
              "       54.3447116 , 48.10638646, 48.64672453, 47.00882973, 46.85703205,\n",
              "       49.25549727, 49.50348023, 44.87360622, 47.08372323, 47.18505659,\n",
              "       50.42858837, 49.02112922, 41.79319822, 56.75990165, 48.00617781,\n",
              "       49.41679451, 49.84909154, 41.91810001, 51.88378328, 50.73968113,\n",
              "       44.53472386, 46.63839445, 55.82003268, 48.8678222 , 47.049509  ,\n",
              "       47.34751205, 42.95583056, 47.50502981, 54.96399629, 59.19475302,\n",
              "       53.7670914 , 47.90683306, 41.95851355, 50.97525416, 56.29163496,\n",
              "       47.59680024, 47.33543215, 51.32838104, 44.57313964, 47.94696044,\n",
              "       60.35400791, 56.4897503 , 49.40049726, 47.3221076 , 54.41488552,\n",
              "       46.43743634, 48.76704645, 37.02971495, 49.82570313, 46.33459278,\n",
              "       44.96226953, 46.64944298, 51.08488053, 54.38068426, 49.16741713,\n",
              "       45.93571542, 52.51299599, 49.38469141, 46.92666316, 47.29340936,\n",
              "       46.92820008, 48.29679321, 53.08073017, 57.43516018, 47.61679984,\n",
              "       50.09649731, 54.17307438, 45.19748213, 43.61769482, 46.11099325,\n",
              "       44.94347296, 51.73126123, 47.77195567, 42.65993996, 57.81401374,\n",
              "       48.54716339, 43.59642368, 46.40881158, 41.01084611, 49.11100257,\n",
              "       50.30093698, 49.2748831 , 55.28149693, 47.91510476, 55.16717512,\n",
              "       42.87006367, 46.48417431, 51.41475443, 49.18813419, 53.58143292,\n",
              "       49.46762955, 50.46698877, 46.68894247, 47.51333481, 49.84280051,\n",
              "       54.02833527, 42.09287333, 53.08451731, 53.94411204, 57.06246426,\n",
              "       48.25515139, 47.61180725, 50.50962038, 41.86431814, 45.72791827,\n",
              "       48.08556852, 49.09326371, 52.89610199, 46.78103561, 53.20331732,\n",
              "       44.25141269, 53.63344375, 52.58753239, 44.53042188, 48.47686015,\n",
              "       60.78024926, 44.11472564, 60.03384737, 51.05139287, 46.61097303,\n",
              "       43.78852885, 46.65076832, 51.28277108, 48.18688372, 45.32011283,\n",
              "       57.22622752, 51.95697156, 47.91254698, 48.78488296, 54.17571551,\n",
              "       44.78658027, 56.38849796, 54.69704679, 49.9711364 , 43.60091718,\n",
              "       61.15595159, 56.83555159, 54.06143402, 53.8845145 , 45.79948486,\n",
              "       51.16323101, 52.44263152, 60.7398606 , 49.65173947, 49.29736961,\n",
              "       46.02050932, 49.55320968, 53.90756363, 51.41102775, 43.12981331,\n",
              "       52.32945071, 49.48837515, 50.41859895, 51.41900068, 52.76751582,\n",
              "       46.09200932, 48.99189646, 51.36536802, 48.5683247 , 58.61959067,\n",
              "       43.01747934, 51.40325516, 48.04946549, 41.48334597, 51.18483696,\n",
              "       42.76387534, 46.69493438, 44.50428611, 47.05366251, 46.72222505,\n",
              "       45.67889248, 54.7049458 , 46.02853557, 46.09183577, 45.59338334,\n",
              "       46.0347673 , 48.80000026, 49.71460881, 53.15227678, 43.31385678,\n",
              "       49.66797545, 47.90598069, 49.05307303, 55.05417141, 56.74747087,\n",
              "       52.36231657, 51.21082392, 48.3277879 , 55.87939512, 53.0760539 ,\n",
              "       41.82097745, 50.44128497, 50.27644731, 57.45838907, 46.5960721 ,\n",
              "       60.28177784, 53.42154196, 50.23656203, 46.45343927, 53.79090068,\n",
              "       48.08261315, 51.64124615, 43.42199151, 50.84992916, 43.70753006,\n",
              "       46.17249866, 60.9696138 , 54.08299851, 36.00611561, 48.61779854,\n",
              "       59.22209343, 46.49779733, 57.21512359, 51.47198745, 49.02934873,\n",
              "       47.02224042, 48.91182787, 50.00558255, 48.21307511, 59.32667854,\n",
              "       52.11502025, 47.71014087, 47.56012427, 46.78980976, 50.44761736,\n",
              "       50.06603037, 45.08814296, 51.0912136 , 49.72368519, 47.48608494,\n",
              "       51.64822482, 46.33121382, 50.36977314, 48.55844981, 52.97251792,\n",
              "       46.17347783, 37.80571571, 48.84388351, 41.27821469, 51.59228248,\n",
              "       60.07790238, 42.61296974, 49.84960839, 49.23281739, 55.88199109,\n",
              "       47.37523125, 54.20861125, 50.2755448 , 60.17473797, 55.68665434,\n",
              "       55.63844082, 41.45454831, 48.61543738, 54.00857451, 38.22668562,\n",
              "       48.26264153, 47.89713736, 52.43202585, 49.73759428, 45.38248422,\n",
              "       57.77702515, 58.02873989, 51.22974415, 33.72241475, 56.03119241,\n",
              "       47.95748153, 40.34564386, 50.01164928, 54.32280686, 41.04427149,\n",
              "       50.2892406 , 47.3207971 , 54.71207209, 51.79017643, 51.87503556,\n",
              "       55.10589778, 57.25431524, 49.57069179, 49.40989381, 45.33326354,\n",
              "       43.71962586, 49.11164287, 39.98838192, 37.99864367, 48.49290482,\n",
              "       49.00705331, 54.65592414, 58.47374221, 50.68965052, 49.13257586,\n",
              "       43.61781492, 43.68688805, 46.84165962, 51.32010763, 41.81333775,\n",
              "       42.31512765, 58.40195384, 50.34305462, 49.86786112, 57.27557826,\n",
              "       44.76354504, 44.98165039, 45.34170681, 44.49949613, 47.72614892,\n",
              "       45.51525024, 48.04306871, 44.39669319, 46.20538106, 49.88290858,\n",
              "       36.54336966, 53.57491498, 45.75077674, 41.52311479, 41.67257768,\n",
              "       50.69220667, 54.66868164, 44.467479  , 43.58775699, 57.36332894,\n",
              "       46.8704276 , 54.07764965, 43.85769138, 51.55055728, 60.59215276,\n",
              "       46.60355532, 51.98733786, 41.22420327, 52.26989032, 55.22312941,\n",
              "       57.83330116, 47.82944184, 42.48153121, 52.13059634, 50.1727606 ,\n",
              "       46.5404471 , 51.80138736, 49.23177944, 46.22133767, 59.20903688,\n",
              "       48.45768655, 52.86407375, 51.81585663, 57.24362987, 54.19151552,\n",
              "       51.71169526, 51.38853237, 43.83922382, 58.10259986, 46.30153941,\n",
              "       60.24464092, 40.25440156, 46.06004944, 46.24006088, 48.7195896 ,\n",
              "       41.27101341, 53.25503601, 59.8731777 , 44.22633643, 53.94960397,\n",
              "       49.49305294, 57.50060045, 40.24754462, 52.83774006, 54.05393182,\n",
              "       45.49686374, 44.72043688, 47.90577384, 59.0088207 , 59.2363418 ,\n",
              "       61.92722706, 45.22981251, 46.27319534, 51.9341342 , 44.84762847,\n",
              "       55.08842716, 47.37833771, 54.96556006, 52.21340857, 56.48212332,\n",
              "       40.89677589, 47.53360425, 46.359953  , 40.95023641, 44.81281644,\n",
              "       52.93631498, 50.54995098, 53.50854324, 47.22184375, 46.98703541,\n",
              "       44.82249116, 47.85989523, 48.30618337, 53.76949957, 53.86635659,\n",
              "       53.94177909, 54.65695591, 52.43130355, 57.55514674, 51.48131709,\n",
              "       48.59681361, 50.91760848, 49.65305355, 47.57039693, 56.71400404,\n",
              "       50.18664588, 36.22684639, 51.74499998, 47.99084231, 50.27062034,\n",
              "       54.7727508 , 43.50516671, 47.82299879, 53.60446633, 52.3009473 ,\n",
              "       52.30595366, 53.28874911, 47.49744761, 56.8556936 , 42.00930519,\n",
              "       53.9541468 , 33.9851593 , 39.89004376, 42.71624982, 48.21820187,\n",
              "       49.10341591, 58.61999982, 52.45979802, 50.27732468, 52.62555587,\n",
              "       52.11818717, 49.015775  , 42.66976489, 39.57313989, 44.316128  ,\n",
              "       48.12571136, 47.08803951, 48.8680061 , 49.37980266, 50.2245494 ,\n",
              "       48.44607177, 50.01366754, 53.30627453, 46.62663852, 55.49522869,\n",
              "       62.12174057, 50.58469501, 50.61691274, 57.89637864, 48.04583596,\n",
              "       50.25380535, 51.88552793, 41.57425407, 51.36892395, 51.81369347,\n",
              "       47.04559405, 41.70836184, 60.27891537, 47.69118689, 46.28025278,\n",
              "       56.3590211 , 56.93960579, 50.51811027, 56.29605199, 52.56695689,\n",
              "       54.06951618, 52.47418065, 45.57099858, 50.63832795, 45.77282733,\n",
              "       42.30592025, 50.14121647, 46.89384107, 52.5619497 , 54.43885686,\n",
              "       49.6092722 , 51.51414457, 49.024919  , 54.2930823 , 62.22721419,\n",
              "       54.3555026 , 47.35225734, 44.37443448, 51.87172869, 50.05479289,\n",
              "       34.33469567, 54.4052898 , 50.03326975, 50.19119338, 56.52028262,\n",
              "       58.98751598, 53.28722309, 55.19367172, 51.20819974, 46.65199895,\n",
              "       51.38398427, 62.68509582, 46.62637129, 55.90156922, 47.30981295,\n",
              "       58.34624729, 48.7135864 , 53.23998211, 51.50447729, 51.02899856,\n",
              "       43.34911796, 50.19926101, 57.8557999 , 60.97096778, 49.88052435,\n",
              "       45.15409024, 44.91175407, 45.93531376, 45.94241429, 42.89548839,\n",
              "       44.1336685 , 51.51093506, 55.31129228, 44.16126914, 46.53466248,\n",
              "       39.36758903, 47.78132044, 48.88472277, 48.15211017, 44.47507146,\n",
              "       46.68246035, 52.86861657, 46.09875694, 50.62995645, 47.89773729,\n",
              "       50.88371568, 49.02171732, 54.80948545, 52.12975678, 51.98856551,\n",
              "       38.04098182, 49.59480876, 47.00207282, 53.18806005, 46.77606737,\n",
              "       42.39068373, 51.62336225, 51.21950758, 46.19149554, 56.29909608,\n",
              "       46.22916802, 52.88587568, 43.36188982, 57.05513787, 52.18813432,\n",
              "       54.80298397, 52.82371373, 47.66557424, 58.15923964, 51.25679232])"
            ]
          },
          "metadata": {},
          "execution_count": 21
        }
      ]
    },
    {
      "cell_type": "code",
      "source": [
        "pyplot.hist(sample, bins=20)\n",
        "pyplot.show()"
      ],
      "metadata": {
        "colab": {
          "base_uri": "https://localhost:8080/",
          "height": 265
        },
        "id": "Zn_qrljNR25_",
        "outputId": "7748b8a0-d86d-44c6-97e2-0125640ffd3e"
      },
      "execution_count": 22,
      "outputs": [
        {
          "output_type": "display_data",
          "data": {
            "text/plain": [
              "<Figure size 432x288 with 1 Axes>"
            ],
            "image/png": "[encoded data removed]"
          },
          "metadata": {
            "needs_background": "light"
          }
        }
      ]
    },
    {
      "cell_type": "code",
      "source": [
        "#lets use the sample data and caluclate the mean and standard deviation - assuming they are unknown\n",
        "sample_mean =  statistics.mean(sample)\n",
        "sample_std = statistics.stdev(sample)\n",
        "print(sample_mean)\n",
        "print(sample_std)"
      ],
      "metadata": {
        "colab": {
          "base_uri": "https://localhost:8080/"
        },
        "id": "7eE9ctt5SFjl",
        "outputId": "7c46294a-574b-465e-9854-20a89e6a7aa7"
      },
      "execution_count": 24,
      "outputs": [
        {
          "output_type": "stream",
          "name": "stdout",
          "text": [
            "49.76546130800147\n",
            "5.0666050641642935\n"
          ]
        }
      ]
    },
    {
      "cell_type": "code",
      "source": [
        "dist = norm(sample_mean, sample_std)\n",
        "dist"
      ],
      "metadata": {
        "id": "HYMdovApSszd",
        "outputId": "69f1082c-8507-4bdb-fae0-4019c7d24cad",
        "colab": {
          "base_uri": "https://localhost:8080/"
        }
      },
      "execution_count": 25,
      "outputs": [
        {
          "output_type": "execute_result",
          "data": {
            "text/plain": [
              "<scipy.stats._distn_infrastructure.rv_frozen at 0x7f0b4ffc6d10>"
            ]
          },
          "metadata": {},
          "execution_count": 25
        }
      ]
    },
    {
      "cell_type": "code",
      "source": [
        "values = [value for value in range(10, 100)]\n",
        "probabilities = [dist.pdf(value) for value in values]\n",
        "probabilities"
      ],
      "metadata": {
        "id": "RNNl9mCOU_-u",
        "outputId": "e7a6e3eb-a32e-4893-a1f4-50bd20e723e5",
        "colab": {
          "base_uri": "https://localhost:8080/"
        }
      },
      "execution_count": 26,
      "outputs": [
        {
          "output_type": "execute_result",
          "data": {
            "text/plain": [
              "[3.311373926819541e-15,\n",
              " 1.5286325808446857e-14,\n",
              " 6.787032869733504e-14,\n",
              " 2.8982693698873623e-13,\n",
              " 1.1903632088311218e-12,\n",
              " 4.702211915710378e-12,\n",
              " 1.786515768294292e-11,\n",
              " 6.528200188612428e-11,\n",
              " 2.294362456050957e-10,\n",
              " 7.755548981312193e-10,\n",
              " 2.521418973126638e-09,\n",
              " 7.884232844087442e-09,\n",
              " 2.3711324871634103e-08,\n",
              " 6.858579133604628e-08,\n",
              " 1.9080706034050084e-07,\n",
              " 5.10548119971032e-07,\n",
              " 1.313895652997853e-06,\n",
              " 3.252123458501082e-06,\n",
              " 7.742034927611404e-06,\n",
              " 1.7726589277743832e-05,\n",
              " 3.903706808481465e-05,\n",
              " 8.26820347562646e-05,\n",
              " 0.00016843295707052834,\n",
              " 0.0003300083621678515,\n",
              " 0.0006218773939450988,\n",
              " 0.0011271106384673107,\n",
              " 0.0019647635016098,\n",
              " 0.003294093852878467,\n",
              " 0.005311823172374812,\n",
              " 0.008238216548987137,\n",
              " 0.012288666321959895,\n",
              " 0.01763024120025207,\n",
              " 0.024327288744636417,\n",
              " 0.03228576785011499,\n",
              " 0.04121074666903327,\n",
              " 0.05059315940188343,\n",
              " 0.059738604336739935,\n",
              " 0.06784225847239059,\n",
              " 0.0741015813676873,\n",
              " 0.0778460550416785,\n",
              " 0.07865524635437793,\n",
              " 0.0764364900548816,\n",
              " 0.07144234980898798,\n",
              " 0.06422330908253364,\n",
              " 0.055527942374746474,\n",
              " 0.04617558822417242,\n",
              " 0.03693135535676238,\n",
              " 0.028409265781437907,\n",
              " 0.021018742379600674,\n",
              " 0.014956686765947625,\n",
              " 0.010236371135077532,\n",
              " 0.006738117847978683,\n",
              " 0.004265924208220292,\n",
              " 0.0025975841267741563,\n",
              " 0.0015212761695207174,\n",
              " 0.0008568966726527449,\n",
              " 0.00046422743679398493,\n",
              " 0.0002418884360316631,\n",
              " 0.00012122197692055198,\n",
              " 5.8429150472998766e-05,\n",
              " 2.7086926883112225e-05,\n",
              " 1.2077355574978122e-05,\n",
              " 5.179238661003693e-06,\n",
              " 2.1362001877918046e-06,\n",
              " 8.474223769407904e-07,\n",
              " 3.233254274695707e-07,\n",
              " 1.1864836200182552e-07,\n",
              " 4.1876038200680054e-08,\n",
              " 1.4215147863718504e-08,\n",
              " 4.641080801254378e-09,\n",
              " 1.457366664827378e-09,\n",
              " 4.4014977801779916e-10,\n",
              " 1.2785393433610443e-10,\n",
              " 3.5719852768980074e-11,\n",
              " 9.598142144838669e-12,\n",
              " 2.4805423635634602e-12,\n",
              " 6.165780691483418e-13,\n",
              " 1.474047410474995e-13,\n",
              " 3.3893528591539704e-14,\n",
              " 7.495559763497704e-15,\n",
              " 1.5943119874254821e-15,\n",
              " 3.261553491720773e-16,\n",
              " 6.417378480465309e-17,\n",
              " 1.2144307505139664e-17,\n",
              " 2.2103946007962494e-18,\n",
              " 3.8694462702360407e-19,\n",
              " 6.51493045211268e-20,\n",
              " 1.0550005865485625e-20,\n",
              " 1.643151365663256e-21,\n",
              " 2.4614124726842526e-22]"
            ]
          },
          "metadata": {},
          "execution_count": 26
        }
      ]
    },
    {
      "cell_type": "code",
      "source": [
        "pyplot.hist(sample, bins=30, density = True)\n",
        "pyplot.plot(values, probabilities)\n",
        "pyplot.show()"
      ],
      "metadata": {
        "id": "SnRBR3hUVRRG",
        "outputId": "e93663d4-8c4c-465e-a166-f04439870a04",
        "colab": {
          "base_uri": "https://localhost:8080/",
          "height": 265
        }
      },
      "execution_count": 30,
      "outputs": [
        {
          "output_type": "display_data",
          "data": {
            "text/plain": [
              "<Figure size 432x288 with 1 Axes>"
            ],
            "image/png": "[encoded data removed]"
          },
          "metadata": {
            "needs_background": "light"
          }
        }
      ]
    },
    {
      "cell_type": "code",
      "source": [
        "#in case the histogram does not fit a probability density function we use the non-parametric density estimation as the following\n",
        "# somwtimes the data has bi "
      ],
      "metadata": {
        "id": "GR-zD-DdW3W_"
      },
      "execution_count": 31,
      "outputs": []
    }
  ]
}